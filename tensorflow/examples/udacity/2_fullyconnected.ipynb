{
 "cells": [
  {
   "cell_type": "markdown",
   "metadata": {
    "colab_type": "text",
    "id": "kR-4eNdK6lYS"
   },
   "source": [
    "Deep Learning\n",
    "=============\n",
    "\n",
    "Assignment 2\n",
    "------------\n",
    "\n",
    "Previously in `1_notmnist.ipynb`, we created a pickle with formatted datasets for training, development and testing on the [notMNIST dataset](http://yaroslavvb.blogspot.com/2011/09/notmnist-dataset.html).\n",
    "\n",
    "The goal of this assignment is to progressively train deeper and more accurate models using TensorFlow."
   ]
  },
  {
   "cell_type": "code",
   "execution_count": 1,
   "metadata": {
    "cellView": "both",
    "colab": {
     "autoexec": {
      "startup": false,
      "wait_interval": 0
     }
    },
    "colab_type": "code",
    "collapsed": true,
    "id": "JLpLa8Jt7Vu4"
   },
   "outputs": [],
   "source": [
    "# These are all the modules we'll be using later. Make sure you can import them\n",
    "# before proceeding further.\n",
    "from __future__ import print_function\n",
    "import numpy as np\n",
    "import tensorflow as tf\n",
    "from six.moves import cPickle as pickle\n",
    "from six.moves import range"
   ]
  },
  {
   "cell_type": "markdown",
   "metadata": {
    "colab_type": "text",
    "id": "1HrCK6e17WzV"
   },
   "source": [
    "First reload the data we generated in `1_notmnist.ipynb`."
   ]
  },
  {
   "cell_type": "code",
   "execution_count": 2,
   "metadata": {
    "cellView": "both",
    "colab": {
     "autoexec": {
      "startup": false,
      "wait_interval": 0
     },
     "output_extras": [
      {
       "item_id": 1
      }
     ]
    },
    "colab_type": "code",
    "executionInfo": {
     "elapsed": 19456,
     "status": "ok",
     "timestamp": 1449847956073,
     "user": {
      "color": "",
      "displayName": "",
      "isAnonymous": false,
      "isMe": true,
      "permissionId": "",
      "photoUrl": "",
      "sessionId": "0",
      "userId": ""
     },
     "user_tz": 480
    },
    "id": "y3-cj1bpmuxc",
    "outputId": "0ddb1607-1fc4-4ddb-de28-6c7ab7fb0c33"
   },
   "outputs": [
    {
     "name": "stdout",
     "output_type": "stream",
     "text": [
      "Training set (200000, 28, 28) (200000,)\n",
      "Validation set (10000, 28, 28) (10000,)\n",
      "Test set (10000, 28, 28) (10000,)\n"
     ]
    }
   ],
   "source": [
    "pickle_file = 'notMNIST.pickle'\n",
    "\n",
    "with open(pickle_file, 'rb') as f:\n",
    "  save = pickle.load(f)\n",
    "  train_dataset = save['train_dataset']\n",
    "  train_labels = save['train_labels']\n",
    "  valid_dataset = save['valid_dataset']\n",
    "  valid_labels = save['valid_labels']\n",
    "  test_dataset = save['test_dataset']\n",
    "  test_labels = save['test_labels']\n",
    "  del save  # hint to help gc free up memory\n",
    "  print('Training set', train_dataset.shape, train_labels.shape)\n",
    "  print('Validation set', valid_dataset.shape, valid_labels.shape)\n",
    "  print('Test set', test_dataset.shape, test_labels.shape)"
   ]
  },
  {
   "cell_type": "markdown",
   "metadata": {
    "colab_type": "text",
    "id": "L7aHrm6nGDMB"
   },
   "source": [
    "Reformat into a shape that's more adapted to the models we're going to train:\n",
    "- data as a flat matrix,\n",
    "- labels as float 1-hot encodings."
   ]
  },
  {
   "cell_type": "code",
   "execution_count": 3,
   "metadata": {
    "cellView": "both",
    "colab": {
     "autoexec": {
      "startup": false,
      "wait_interval": 0
     },
     "output_extras": [
      {
       "item_id": 1
      }
     ]
    },
    "colab_type": "code",
    "executionInfo": {
     "elapsed": 19723,
     "status": "ok",
     "timestamp": 1449847956364,
     "user": {
      "color": "",
      "displayName": "",
      "isAnonymous": false,
      "isMe": true,
      "permissionId": "",
      "photoUrl": "",
      "sessionId": "0",
      "userId": ""
     },
     "user_tz": 480
    },
    "id": "IRSyYiIIGIzS",
    "outputId": "2ba0fc75-1487-4ace-a562-cf81cae82793"
   },
   "outputs": [
    {
     "name": "stdout",
     "output_type": "stream",
     "text": [
      "Training set (200000, 784) (200000, 10)\n",
      "Validation set (10000, 784) (10000, 10)\n",
      "Test set (10000, 784) (10000, 10)\n"
     ]
    }
   ],
   "source": [
    "image_size = 28\n",
    "num_labels = 10\n",
    "\n",
    "def reformat(dataset, labels):\n",
    "  dataset = dataset.reshape((-1, image_size * image_size)).astype(np.float32)\n",
    "  # Map 0 to [1.0, 0.0, 0.0 ...], 1 to [0.0, 1.0, 0.0 ...]\n",
    "  labels = (np.arange(num_labels) == labels[:,None]).astype(np.float32)\n",
    "  return dataset, labels\n",
    "train_dataset, train_labels = reformat(train_dataset, train_labels)\n",
    "valid_dataset, valid_labels = reformat(valid_dataset, valid_labels)\n",
    "test_dataset, test_labels = reformat(test_dataset, test_labels)\n",
    "print('Training set', train_dataset.shape, train_labels.shape)\n",
    "print('Validation set', valid_dataset.shape, valid_labels.shape)\n",
    "print('Test set', test_dataset.shape, test_labels.shape)"
   ]
  },
  {
   "cell_type": "markdown",
   "metadata": {
    "colab_type": "text",
    "id": "nCLVqyQ5vPPH"
   },
   "source": [
    "We're first going to train a multinomial logistic regression using simple gradient descent.\n",
    "\n",
    "TensorFlow works like this:\n",
    "* First you describe the computation that you want to see performed: what the inputs, the variables, and the operations look like. These get created as nodes over a computation graph. This description is all contained within the block below:\n",
    "\n",
    "      with graph.as_default():\n",
    "          ...\n",
    "\n",
    "* Then you can run the operations on this graph as many times as you want by calling `session.run()`, providing it outputs to fetch from the graph that get returned. This runtime operation is all contained in the block below:\n",
    "\n",
    "      with tf.Session(graph=graph) as session:\n",
    "          ...\n",
    "\n",
    "Let's load all the data into TensorFlow and build the computation graph corresponding to our training:"
   ]
  },
  {
   "cell_type": "code",
   "execution_count": 4,
   "metadata": {
    "cellView": "both",
    "colab": {
     "autoexec": {
      "startup": false,
      "wait_interval": 0
     }
    },
    "colab_type": "code",
    "id": "Nfv39qvtvOl_"
   },
   "outputs": [
    {
     "name": "stdout",
     "output_type": "stream",
     "text": [
      "WARNING:tensorflow:From <ipython-input-4-2f68eb642fa1>:32: softmax_cross_entropy_with_logits (from tensorflow.python.ops.nn_ops) is deprecated and will be removed in a future version.\n",
      "Instructions for updating:\n",
      "\n",
      "Future major versions of TensorFlow will allow gradients to flow\n",
      "into the labels input on backprop by default.\n",
      "\n",
      "See tf.nn.softmax_cross_entropy_with_logits_v2.\n",
      "\n"
     ]
    }
   ],
   "source": [
    "# With gradient descent training, even this much data is prohibitive.\n",
    "# Subset the training data for faster turnaround.\n",
    "train_subset = 10000\n",
    "\n",
    "graph = tf.Graph()\n",
    "with graph.as_default():\n",
    "\n",
    "  # Input data.\n",
    "  # Load the training, validation and test data into constants that are\n",
    "  # attached to the graph.\n",
    "  tf_train_dataset = tf.constant(train_dataset[:train_subset, :])\n",
    "  tf_train_labels = tf.constant(train_labels[:train_subset])\n",
    "\n",
    "  tf_valid_dataset = tf.constant(valid_dataset)\n",
    "  tf_test_dataset = tf.constant(test_dataset)\n",
    "  \n",
    "  # Variables.\n",
    "  # These are the parameters that we are going to be training. The weight\n",
    "  # matrix will be initialized using random values following a (truncated)\n",
    "  # normal distribution. The biases get initialized to zero.\n",
    "  weights = tf.Variable(\n",
    "    tf.truncated_normal([image_size * image_size, num_labels]))\n",
    "  biases = tf.Variable(tf.zeros([num_labels]))\n",
    "  \n",
    "  # Training computation.\n",
    "  # We multiply the inputs with the weight matrix, and add biases. We compute\n",
    "  # the softmax and cross-entropy (it's one operation in TensorFlow, because\n",
    "  # it's very common, and it can be optimized). We take the average of this\n",
    "  # cross-entropy across all training examples: that's our loss.\n",
    "  logits = tf.matmul(tf_train_dataset, weights) + biases\n",
    "  loss = tf.reduce_mean(\n",
    "    tf.nn.softmax_cross_entropy_with_logits(labels=tf_train_labels, logits=logits))\n",
    "  \n",
    "  # Optimizer.\n",
    "  # We are going to find the minimum of this loss using gradient descent.\n",
    "  optimizer = tf.train.GradientDescentOptimizer(0.5).minimize(loss)\n",
    "  \n",
    "  # Predictions for the training, validation, and test data.\n",
    "  # These are not part of training, but merely here so that we can report\n",
    "  # accuracy figures as we train.\n",
    "  train_prediction = tf.nn.softmax(logits)\n",
    "  valid_prediction = tf.nn.softmax(\n",
    "    tf.matmul(tf_valid_dataset, weights) + biases)\n",
    "  test_prediction = tf.nn.softmax(tf.matmul(tf_test_dataset, weights) + biases)"
   ]
  },
  {
   "cell_type": "markdown",
   "metadata": {
    "colab_type": "text",
    "id": "KQcL4uqISHjP"
   },
   "source": [
    "Let's run this computation and iterate:"
   ]
  },
  {
   "cell_type": "code",
   "execution_count": 5,
   "metadata": {
    "cellView": "both",
    "colab": {
     "autoexec": {
      "startup": false,
      "wait_interval": 0
     },
     "output_extras": [
      {
       "item_id": 9
      }
     ]
    },
    "colab_type": "code",
    "executionInfo": {
     "elapsed": 57454,
     "status": "ok",
     "timestamp": 1449847994134,
     "user": {
      "color": "",
      "displayName": "",
      "isAnonymous": false,
      "isMe": true,
      "permissionId": "",
      "photoUrl": "",
      "sessionId": "0",
      "userId": ""
     },
     "user_tz": 480
    },
    "id": "z2cjdenH869W",
    "outputId": "4c037ba1-b526-4d8e-e632-91e2a0333267"
   },
   "outputs": [
    {
     "name": "stdout",
     "output_type": "stream",
     "text": [
      "Initialized\n",
      "Loss at step 0: 17.306580\n",
      "Training accuracy: 11.0%\n",
      "Validation accuracy: 13.2%\n",
      "Loss at step 100: 2.412868\n",
      "Training accuracy: 71.9%\n",
      "Validation accuracy: 71.6%\n",
      "Loss at step 200: 1.959520\n",
      "Training accuracy: 74.7%\n",
      "Validation accuracy: 73.7%\n",
      "Loss at step 300: 1.708389\n",
      "Training accuracy: 75.9%\n",
      "Validation accuracy: 74.4%\n",
      "Loss at step 400: 1.536494\n",
      "Training accuracy: 76.6%\n",
      "Validation accuracy: 74.8%\n",
      "Loss at step 500: 1.406658\n",
      "Training accuracy: 77.2%\n",
      "Validation accuracy: 75.2%\n",
      "Loss at step 600: 1.303740\n",
      "Training accuracy: 77.7%\n",
      "Validation accuracy: 75.3%\n",
      "Loss at step 700: 1.219691\n",
      "Training accuracy: 78.4%\n",
      "Validation accuracy: 75.5%\n",
      "Loss at step 800: 1.149463\n",
      "Training accuracy: 78.7%\n",
      "Validation accuracy: 75.8%\n",
      "Test accuracy: 82.1%\n"
     ]
    }
   ],
   "source": [
    "num_steps = 801\n",
    "\n",
    "def accuracy(predictions, labels):\n",
    "  return (100.0 * np.sum(np.argmax(predictions, 1) == np.argmax(labels, 1))\n",
    "          / predictions.shape[0])\n",
    "\n",
    "with tf.Session(graph=graph) as session:\n",
    "  # This is a one-time operation which ensures the parameters get initialized as\n",
    "  # we described in the graph: random weights for the matrix, zeros for the\n",
    "  # biases. \n",
    "  tf.global_variables_initializer().run()\n",
    "  print('Initialized')\n",
    "  for step in range(num_steps):\n",
    "    # Run the computations. We tell .run() that we want to run the optimizer,\n",
    "    # and get the loss value and the training predictions returned as numpy\n",
    "    # arrays.\n",
    "    _, l, predictions = session.run([optimizer, loss, train_prediction])\n",
    "    if (step % 100 == 0):\n",
    "      print('Loss at step %d: %f' % (step, l))\n",
    "      print('Training accuracy: %.1f%%' % accuracy(\n",
    "        predictions, train_labels[:train_subset, :]))\n",
    "      # Calling .eval() on valid_prediction is basically like calling run(), but\n",
    "      # just to get that one numpy array. Note that it recomputes all its graph\n",
    "      # dependencies.\n",
    "      print('Validation accuracy: %.1f%%' % accuracy(\n",
    "        valid_prediction.eval(), valid_labels))\n",
    "  print('Test accuracy: %.1f%%' % accuracy(test_prediction.eval(), test_labels))"
   ]
  },
  {
   "cell_type": "markdown",
   "metadata": {
    "colab_type": "text",
    "id": "x68f-hxRGm3H"
   },
   "source": [
    "Let's now switch to stochastic gradient descent training instead, which is much faster.\n",
    "\n",
    "The graph will be similar, except that instead of holding all the training data into a constant node, we create a `Placeholder` node which will be fed actual data at every call of `session.run()`."
   ]
  },
  {
   "cell_type": "code",
   "execution_count": 6,
   "metadata": {
    "cellView": "both",
    "colab": {
     "autoexec": {
      "startup": false,
      "wait_interval": 0
     }
    },
    "colab_type": "code",
    "collapsed": true,
    "id": "qhPMzWYRGrzM"
   },
   "outputs": [],
   "source": [
    "batch_size = 128\n",
    "\n",
    "graph = tf.Graph()\n",
    "with graph.as_default():\n",
    "\n",
    "  # Input data. For the training data, we use a placeholder that will be fed\n",
    "  # at run time with a training minibatch.\n",
    "  tf_train_dataset = tf.placeholder(tf.float32,\n",
    "                                    shape=(batch_size, image_size * image_size))\n",
    "  tf_train_labels = tf.placeholder(tf.float32, shape=(batch_size, num_labels))\n",
    "  tf_valid_dataset = tf.constant(valid_dataset)\n",
    "  tf_test_dataset = tf.constant(test_dataset)\n",
    "  \n",
    "  # Variables.\n",
    "  weights = tf.Variable(\n",
    "    tf.truncated_normal([image_size * image_size, num_labels]))\n",
    "  biases = tf.Variable(tf.zeros([num_labels]))\n",
    "  \n",
    "  # Training computation.\n",
    "  logits = tf.matmul(tf_train_dataset, weights) + biases\n",
    "  loss = tf.reduce_mean(\n",
    "    tf.nn.softmax_cross_entropy_with_logits(labels=tf_train_labels, logits=logits))\n",
    "  \n",
    "  # Optimizer.\n",
    "  optimizer = tf.train.GradientDescentOptimizer(0.5).minimize(loss)\n",
    "  \n",
    "  # Predictions for the training, validation, and test data.\n",
    "  train_prediction = tf.nn.softmax(logits)\n",
    "  valid_prediction = tf.nn.softmax(\n",
    "    tf.matmul(tf_valid_dataset, weights) + biases)\n",
    "  test_prediction = tf.nn.softmax(tf.matmul(tf_test_dataset, weights) + biases)"
   ]
  },
  {
   "cell_type": "markdown",
   "metadata": {
    "colab_type": "text",
    "id": "XmVZESmtG4JH"
   },
   "source": [
    "Let's run it:"
   ]
  },
  {
   "cell_type": "code",
   "execution_count": 7,
   "metadata": {
    "cellView": "both",
    "colab": {
     "autoexec": {
      "startup": false,
      "wait_interval": 0
     },
     "output_extras": [
      {
       "item_id": 6
      }
     ]
    },
    "colab_type": "code",
    "executionInfo": {
     "elapsed": 66292,
     "status": "ok",
     "timestamp": 1449848003013,
     "user": {
      "color": "",
      "displayName": "",
      "isAnonymous": false,
      "isMe": true,
      "permissionId": "",
      "photoUrl": "",
      "sessionId": "0",
      "userId": ""
     },
     "user_tz": 480
    },
    "id": "FoF91pknG_YW",
    "outputId": "d255c80e-954d-4183-ca1c-c7333ce91d0a"
   },
   "outputs": [
    {
     "name": "stdout",
     "output_type": "stream",
     "text": [
      "Initialized\n",
      "Minibatch loss at step 0: 16.528933\n",
      "Minibatch accuracy: 10.2%\n",
      "Validation accuracy: 12.9%\n",
      "Minibatch loss at step 500: 2.266033\n",
      "Minibatch accuracy: 73.4%\n",
      "Validation accuracy: 76.4%\n",
      "Minibatch loss at step 1000: 1.454842\n",
      "Minibatch accuracy: 78.1%\n",
      "Validation accuracy: 77.2%\n",
      "Minibatch loss at step 1500: 0.850999\n",
      "Minibatch accuracy: 81.2%\n",
      "Validation accuracy: 77.7%\n",
      "Minibatch loss at step 2000: 1.277380\n",
      "Minibatch accuracy: 72.7%\n",
      "Validation accuracy: 77.9%\n",
      "Minibatch loss at step 2500: 1.018892\n",
      "Minibatch accuracy: 80.5%\n",
      "Validation accuracy: 78.6%\n",
      "Minibatch loss at step 3000: 1.320148\n",
      "Minibatch accuracy: 70.3%\n",
      "Validation accuracy: 79.8%\n",
      "Test accuracy: 85.8%\n"
     ]
    }
   ],
   "source": [
    "num_steps = 3001\n",
    "\n",
    "with tf.Session(graph=graph) as session:\n",
    "  tf.global_variables_initializer().run()\n",
    "  print(\"Initialized\")\n",
    "  for step in range(num_steps):\n",
    "    # Pick an offset within the training data, which has been randomized.\n",
    "    # Note: we could use better randomization across epochs.\n",
    "    offset = (step * batch_size) % (train_labels.shape[0] - batch_size)\n",
    "    # Generate a minibatch.\n",
    "    batch_data = train_dataset[offset:(offset + batch_size), :]\n",
    "    batch_labels = train_labels[offset:(offset + batch_size), :]\n",
    "    # Prepare a dictionary telling the session where to feed the minibatch.\n",
    "    # The key of the dictionary is the placeholder node of the graph to be fed,\n",
    "    # and the value is the numpy array to feed to it.\n",
    "    feed_dict = {tf_train_dataset : batch_data, tf_train_labels : batch_labels}\n",
    "    _, l, predictions = session.run(\n",
    "      [optimizer, loss, train_prediction], feed_dict=feed_dict)\n",
    "    if (step % 500 == 0):\n",
    "      print(\"Minibatch loss at step %d: %f\" % (step, l))\n",
    "      print(\"Minibatch accuracy: %.1f%%\" % accuracy(predictions, batch_labels))\n",
    "      print(\"Validation accuracy: %.1f%%\" % accuracy(\n",
    "        valid_prediction.eval(), valid_labels))\n",
    "  print(\"Test accuracy: %.1f%%\" % accuracy(test_prediction.eval(), test_labels))"
   ]
  },
  {
   "cell_type": "code",
   "execution_count": null,
   "metadata": {
    "collapsed": true
   },
   "outputs": [],
   "source": []
  },
  {
   "cell_type": "markdown",
   "metadata": {
    "colab_type": "text",
    "id": "7omWxtvLLxik"
   },
   "source": [
    "---\n",
    "Problem\n",
    "-------\n",
    "\n",
    "Turn the logistic regression example with SGD into a 1-hidden layer neural network with rectified linear units [nn.relu()](https://www.tensorflow.org/versions/r0.7/api_docs/python/nn.html#relu) and 1024 hidden nodes. This model should improve your validation / test accuracy.\n",
    "\n",
    "---"
   ]
  },
  {
   "cell_type": "code",
   "execution_count": 8,
   "metadata": {},
   "outputs": [
    {
     "name": "stdout",
     "output_type": "stream",
     "text": [
      "Tensor(\"Softmax:0\", shape=(128, 10), dtype=float32)\n"
     ]
    }
   ],
   "source": [
    "batch_size = 128\n",
    "num_nodes = 1024\n",
    "graphRelu = tf.Graph()\n",
    "\n",
    "with graphRelu.as_default():\n",
    "\n",
    "  # Input data. For the training data, we use a placeholder that will be fed\n",
    "  # at run time with a training minibatch.\n",
    "  tf_train_dataset = tf.placeholder(tf.float32,\n",
    "                                    shape=(batch_size, image_size * image_size))\n",
    "  tf_train_labels = tf.placeholder(tf.float32, shape=(batch_size, num_labels))\n",
    "  tf_valid_dataset = tf.constant(valid_dataset)\n",
    "  tf_test_dataset = tf.constant(test_dataset)\n",
    "  \n",
    "  # Variables.\n",
    "  weights_1 = tf.Variable(tf.truncated_normal([image_size * image_size, num_nodes]))\n",
    "  biases_1 = tf.Variable(tf.zeros([num_nodes]))\n",
    "  \n",
    "  weights_2 = tf.Variable( tf.truncated_normal([num_nodes, num_labels]))\n",
    "  biases_2 = tf.Variable(tf.zeros([num_labels]))\n",
    "\n",
    "  logits_1 = tf.matmul(tf_train_dataset, weights_1) + biases_1\n",
    "  relu_layer = tf.nn.relu(logits_1)  \n",
    "  logits_2 = tf.matmul(relu_layer, weights_2) + biases_2\n",
    "   \n",
    "  loss = tf.reduce_mean(\n",
    "    tf.nn.softmax_cross_entropy_with_logits(labels=tf_train_labels, logits=logits_2))\n",
    "  \n",
    "  # Optimizer.\n",
    "  optimizer = tf.train.GradientDescentOptimizer(0.5).minimize(loss)\n",
    "  \n",
    "  print(train_prediction)\n",
    "  valid_prediction = tf.nn.softmax(logits_2)\n",
    "  # Predictions for test\n",
    "  logits_1 = tf.matmul(tf_test_dataset, weights_1) + biases_1\n",
    "  relu_layer= tf.nn.relu(logits_1)\n",
    "  logits_2 = tf.matmul(relu_layer, weights_2) + biases_2\n",
    "  test_prediction =  tf.nn.softmax(logits_2)\n",
    "  train_prediction = tf.nn.softmax(logits_2)\n",
    "\n"
   ]
  },
  {
   "cell_type": "code",
   "execution_count": null,
   "metadata": {
    "collapsed": true
   },
   "outputs": [],
   "source": [
    "# Test run "
   ]
  },
  {
   "cell_type": "code",
   "execution_count": null,
   "metadata": {},
   "outputs": [
    {
     "name": "stdout",
     "output_type": "stream",
     "text": [
      "(128, 10)\n",
      "(10000, 10)\n",
      "Initialized\n",
      "Minibatch loss at step 0: 284.903503\n",
      "Minibatch loss at step 5: 423.466309\n",
      "Minibatch loss at step 10: 178.482178\n",
      "Minibatch loss at step 15: 78.585091\n",
      "Minibatch loss at step 20: 139.424744\n",
      "Minibatch loss at step 25: 80.205658\n",
      "Minibatch loss at step 30: 82.345428\n",
      "Minibatch loss at step 35: 36.172901\n",
      "Minibatch loss at step 40: 35.216137\n",
      "Minibatch loss at step 45: 61.589886\n",
      "Minibatch loss at step 50: 49.345867\n",
      "Minibatch loss at step 55: 64.596924\n",
      "Minibatch loss at step 60: 61.468323\n",
      "Minibatch loss at step 65: 47.649136\n",
      "Minibatch loss at step 70: 43.667927\n",
      "Minibatch loss at step 75: 69.506523\n",
      "Minibatch loss at step 80: 59.768150\n",
      "Minibatch loss at step 85: 48.158627\n",
      "Minibatch loss at step 90: 22.769226\n",
      "Minibatch loss at step 95: 24.556465\n",
      "Minibatch loss at step 100: 44.383175\n",
      "Minibatch loss at step 105: 39.729092\n",
      "Minibatch loss at step 110: 43.342056\n",
      "Minibatch loss at step 115: 44.508732\n",
      "Minibatch loss at step 120: 42.725456\n",
      "Minibatch loss at step 125: 34.014877\n",
      "Minibatch loss at step 130: 34.979916\n",
      "Minibatch loss at step 135: 33.848755\n",
      "Minibatch loss at step 140: 24.591251\n",
      "Minibatch loss at step 145: 61.879028\n",
      "Minibatch loss at step 150: 37.613300\n",
      "Minibatch loss at step 155: 25.091166\n",
      "Minibatch loss at step 160: 29.160936\n",
      "Minibatch loss at step 165: 26.460220\n",
      "Minibatch loss at step 170: 25.350794\n",
      "Minibatch loss at step 175: 22.675360\n",
      "Minibatch loss at step 180: 25.059105\n",
      "Minibatch loss at step 185: 14.214471\n",
      "Minibatch loss at step 190: 41.339996\n",
      "Minibatch loss at step 195: 25.676991\n",
      "Minibatch loss at step 200: 31.906843\n",
      "Minibatch loss at step 205: 49.649231\n",
      "Minibatch loss at step 210: 26.303391\n",
      "Minibatch loss at step 215: 22.681892\n",
      "Minibatch loss at step 220: 31.137409\n",
      "Minibatch loss at step 225: 17.351599\n",
      "Minibatch loss at step 230: 15.545698\n",
      "Minibatch loss at step 235: 42.965103\n",
      "Minibatch loss at step 240: 62.445110\n",
      "Minibatch loss at step 245: 24.614393\n",
      "Minibatch loss at step 250: 17.370844\n",
      "Minibatch loss at step 255: 24.678848\n",
      "Minibatch loss at step 260: 24.734955\n",
      "Minibatch loss at step 265: 28.585989\n",
      "Minibatch loss at step 270: 37.857430\n",
      "Minibatch loss at step 275: 32.067261\n",
      "Minibatch loss at step 280: 16.496529\n",
      "Minibatch loss at step 285: 30.251873\n",
      "Minibatch loss at step 290: 14.420804\n",
      "Minibatch loss at step 295: 27.981173\n",
      "Minibatch loss at step 300: 14.402878\n",
      "Minibatch loss at step 305: 15.578205\n",
      "Minibatch loss at step 310: 9.943426\n",
      "Minibatch loss at step 315: 20.007208\n",
      "Minibatch loss at step 320: 32.681274\n",
      "Minibatch loss at step 325: 12.976725\n",
      "Minibatch loss at step 330: 22.364815\n",
      "Minibatch loss at step 335: 15.288837\n",
      "Minibatch loss at step 340: 36.838089\n",
      "Minibatch loss at step 345: 51.379105\n",
      "Minibatch loss at step 350: 34.876667\n",
      "Minibatch loss at step 355: 20.366091\n",
      "Minibatch loss at step 360: 9.159789\n",
      "Minibatch loss at step 365: 17.086208\n",
      "Minibatch loss at step 370: 19.993534\n",
      "Minibatch loss at step 375: 10.274729\n",
      "Minibatch loss at step 380: 22.826431\n",
      "Minibatch loss at step 385: 11.723066\n",
      "Minibatch loss at step 390: 35.071152\n",
      "Minibatch loss at step 395: 7.124466\n",
      "Minibatch loss at step 400: 23.263628\n",
      "Minibatch loss at step 405: 13.786082\n",
      "Minibatch loss at step 410: 17.012354\n",
      "Minibatch loss at step 415: 11.622753\n",
      "Minibatch loss at step 420: 26.064041\n",
      "Minibatch loss at step 425: 11.693342\n",
      "Minibatch loss at step 430: 27.598488\n",
      "Minibatch loss at step 435: 27.514824\n",
      "Minibatch loss at step 440: 26.210155\n",
      "Minibatch loss at step 445: 11.546804\n",
      "Minibatch loss at step 450: 13.372728\n",
      "Minibatch loss at step 455: 22.743893\n",
      "Minibatch loss at step 460: 13.899496\n",
      "Minibatch loss at step 465: 7.233325\n",
      "Minibatch loss at step 470: 13.479406\n",
      "Minibatch loss at step 475: 8.354067\n",
      "Minibatch loss at step 480: 13.205355\n",
      "Minibatch loss at step 485: 12.462727\n",
      "Minibatch loss at step 490: 28.113861\n",
      "Minibatch loss at step 495: 25.617720\n",
      "Minibatch loss at step 500: 25.267752\n",
      "Minibatch loss at step 505: 15.358351\n",
      "Minibatch loss at step 510: 10.841675\n",
      "Minibatch loss at step 515: 18.606117\n",
      "Minibatch loss at step 520: 12.521956\n",
      "Minibatch loss at step 525: 15.657963\n",
      "Minibatch loss at step 530: 19.042545\n",
      "Minibatch loss at step 535: 16.354435\n",
      "Minibatch loss at step 540: 7.870028\n",
      "Minibatch loss at step 545: 9.072893\n",
      "Minibatch loss at step 550: 12.009740\n",
      "Minibatch loss at step 555: 11.112337\n",
      "Minibatch loss at step 560: 10.098329\n",
      "Minibatch loss at step 565: 15.667009\n",
      "Minibatch loss at step 570: 27.860588\n",
      "Minibatch loss at step 575: 16.735901\n",
      "Minibatch loss at step 580: 56.926483\n",
      "Minibatch loss at step 585: 6.214499\n",
      "Minibatch loss at step 590: 11.133177\n",
      "Minibatch loss at step 595: 17.104952\n",
      "Minibatch loss at step 600: 3.553442\n",
      "Minibatch loss at step 605: 18.852455\n",
      "Minibatch loss at step 610: 8.063270\n",
      "Minibatch loss at step 615: 12.962914\n",
      "Minibatch loss at step 620: 26.339399\n",
      "Minibatch loss at step 625: 16.165558\n",
      "Minibatch loss at step 630: 9.935821\n",
      "Minibatch loss at step 635: 25.683960\n",
      "Minibatch loss at step 640: 8.132426\n",
      "Minibatch loss at step 645: 26.708416\n",
      "Minibatch loss at step 650: 12.883525\n",
      "Minibatch loss at step 655: 21.012146\n",
      "Minibatch loss at step 660: 11.215405\n",
      "Minibatch loss at step 665: 9.874393\n",
      "Minibatch loss at step 670: 9.909395\n",
      "Minibatch loss at step 675: 10.520643\n",
      "Minibatch loss at step 680: 38.414246\n",
      "Minibatch loss at step 685: 10.941643\n",
      "Minibatch loss at step 690: 6.327585\n",
      "Minibatch loss at step 695: 9.552353\n",
      "Minibatch loss at step 700: 12.829001\n",
      "Minibatch loss at step 705: 19.899197\n",
      "Minibatch loss at step 710: 6.343600\n",
      "Minibatch loss at step 715: 8.827557\n",
      "Minibatch loss at step 720: 26.636263\n",
      "Minibatch loss at step 725: 17.965185\n",
      "Minibatch loss at step 730: 12.907006\n",
      "Minibatch loss at step 735: 9.249246\n",
      "Minibatch loss at step 740: 40.657295\n",
      "Minibatch loss at step 745: 10.845139\n",
      "Minibatch loss at step 750: 15.602325\n",
      "Minibatch loss at step 755: 11.822170\n",
      "Minibatch loss at step 760: 17.182663\n",
      "Minibatch loss at step 765: 16.616533\n",
      "Minibatch loss at step 770: 14.467480\n",
      "Minibatch loss at step 775: 16.989977\n",
      "Minibatch loss at step 780: 7.843399\n",
      "Minibatch loss at step 785: 4.081581\n",
      "Minibatch loss at step 790: 22.213980\n",
      "Minibatch loss at step 795: 10.103249\n",
      "Minibatch loss at step 800: 13.344489\n",
      "Minibatch loss at step 805: 7.468581\n",
      "Minibatch loss at step 810: 7.550658\n",
      "Minibatch loss at step 815: 3.159508\n",
      "Minibatch loss at step 820: 14.638723\n",
      "Minibatch loss at step 825: 7.278702\n",
      "Minibatch loss at step 830: 8.631009\n",
      "Minibatch loss at step 835: 4.379684\n",
      "Minibatch loss at step 840: 7.157979\n",
      "Minibatch loss at step 845: 9.007932\n"
     ]
    }
   ],
   "source": [
    "num_steps = 3001\n",
    "print(valid_prediction.shape)\n",
    "print(valid_labels.shape)\n",
    "with tf.Session(graph=graphRelu) as session:\n",
    "  tf.global_variables_initializer().run()\n",
    "  print(\"Initialized\")\n",
    "  for step in range(num_steps):\n",
    "    # Pick an offset within the training data, which has been randomized.\n",
    "    # Note: we could use better randomization across epochs.\n",
    "    offset = (step * batch_size) % (train_labels.shape[0] - batch_size)\n",
    "    # Generate a minibatch.\n",
    "    batch_data = train_dataset[offset:(offset + batch_size), :]\n",
    "    batch_labels = train_labels[offset:(offset + batch_size), :]\n",
    "    # Prepare a dictionary telling the session where to feed the minibatch.\n",
    "    # The key of the dictionary is the placeholder node of the graph to be fed,\n",
    "    # and the value is the numpy array to feed to it.\n",
    "    feed_dict = {tf_train_dataset : batch_data, tf_train_labels : batch_labels}\n",
    "    _, l, predictions = session.run(\n",
    "      [optimizer, loss, train_prediction], feed_dict=feed_dict)\n",
    "    if (step % 5 == 0):\n",
    "      print(\"Minibatch loss at step %d: %f\" % (step, l))\n",
    "  print(\"Test accuracy: %.1f%%\" % accuracy(test_prediction.eval(), test_labels))"
   ]
  },
  {
   "cell_type": "code",
   "execution_count": null,
   "metadata": {
    "collapsed": true
   },
   "outputs": [],
   "source": []
  },
  {
   "cell_type": "code",
   "execution_count": null,
   "metadata": {
    "collapsed": true
   },
   "outputs": [],
   "source": []
  }
 ],
 "metadata": {
  "colab": {
   "default_view": {},
   "name": "2_fullyconnected.ipynb",
   "provenance": [],
   "version": "0.3.2",
   "views": {}
  },
  "kernelspec": {
   "display_name": "Python 3",
   "language": "python",
   "name": "python3"
  },
  "language_info": {
   "codemirror_mode": {
    "name": "ipython",
    "version": 3
   },
   "file_extension": ".py",
   "mimetype": "text/x-python",
   "name": "python",
   "nbconvert_exporter": "python",
   "pygments_lexer": "ipython3",
   "version": "3.5.4"
  }
 },
 "nbformat": 4,
 "nbformat_minor": 1
}

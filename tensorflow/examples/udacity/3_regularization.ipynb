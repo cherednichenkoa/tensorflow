{
 "cells": [
  {
   "cell_type": "markdown",
   "metadata": {
    "colab_type": "text",
    "id": "kR-4eNdK6lYS"
   },
   "source": [
    "Deep Learning\n",
    "=============\n",
    "\n",
    "Assignment 3\n",
    "------------\n",
    "\n",
    "Previously in `2_fullyconnected.ipynb`, you trained a logistic regression and a neural network model.\n",
    "\n",
    "The goal of this assignment is to explore regularization techniques."
   ]
  },
  {
   "cell_type": "code",
   "execution_count": 239,
   "metadata": {
    "cellView": "both",
    "colab": {
     "autoexec": {
      "startup": false,
      "wait_interval": 0
     }
    },
    "colab_type": "code",
    "collapsed": true,
    "id": "JLpLa8Jt7Vu4"
   },
   "outputs": [],
   "source": [
    "# These are all the modules we'll be using later. Make sure you can import them\n",
    "# before proceeding further.\n",
    "from __future__ import print_function\n",
    "import numpy as np\n",
    "import tensorflow as tf\n",
    "import math as math\n",
    "from six.moves import cPickle as pickle"
   ]
  },
  {
   "cell_type": "markdown",
   "metadata": {
    "colab_type": "text",
    "id": "1HrCK6e17WzV"
   },
   "source": [
    "First reload the data we generated in `1_notmnist.ipynb`."
   ]
  },
  {
   "cell_type": "code",
   "execution_count": 2,
   "metadata": {
    "cellView": "both",
    "colab": {
     "autoexec": {
      "startup": false,
      "wait_interval": 0
     },
     "output_extras": [
      {
       "item_id": 1
      }
     ]
    },
    "colab_type": "code",
    "executionInfo": {
     "elapsed": 11777,
     "status": "ok",
     "timestamp": 1449849322348,
     "user": {
      "color": "",
      "displayName": "",
      "isAnonymous": false,
      "isMe": true,
      "permissionId": "",
      "photoUrl": "",
      "sessionId": "0",
      "userId": ""
     },
     "user_tz": 480
    },
    "id": "y3-cj1bpmuxc",
    "outputId": "e03576f1-ebbe-4838-c388-f1777bcc9873"
   },
   "outputs": [
    {
     "name": "stdout",
     "output_type": "stream",
     "text": [
      "Training set (200000, 28, 28) (200000,)\n",
      "Validation set (10000, 28, 28) (10000,)\n",
      "Test set (10000, 28, 28) (10000,)\n"
     ]
    }
   ],
   "source": [
    "pickle_file = 'notMNIST.pickle'\n",
    "\n",
    "with open(pickle_file, 'rb') as f:\n",
    "  save = pickle.load(f)\n",
    "  train_dataset = save['train_dataset']\n",
    "  train_labels = save['train_labels']\n",
    "  valid_dataset = save['valid_dataset']\n",
    "  valid_labels = save['valid_labels']\n",
    "  test_dataset = save['test_dataset']\n",
    "  test_labels = save['test_labels']\n",
    "  del save  # hint to help gc free up memory\n",
    "  print('Training set', train_dataset.shape, train_labels.shape)\n",
    "  print('Validation set', valid_dataset.shape, valid_labels.shape)\n",
    "  print('Test set', test_dataset.shape, test_labels.shape)"
   ]
  },
  {
   "cell_type": "markdown",
   "metadata": {
    "colab_type": "text",
    "id": "L7aHrm6nGDMB"
   },
   "source": [
    "Reformat into a shape that's more adapted to the models we're going to train:\n",
    "- data as a flat matrix,\n",
    "- labels as float 1-hot encodings."
   ]
  },
  {
   "cell_type": "code",
   "execution_count": 3,
   "metadata": {
    "cellView": "both",
    "colab": {
     "autoexec": {
      "startup": false,
      "wait_interval": 0
     },
     "output_extras": [
      {
       "item_id": 1
      }
     ]
    },
    "colab_type": "code",
    "executionInfo": {
     "elapsed": 11728,
     "status": "ok",
     "timestamp": 1449849322356,
     "user": {
      "color": "",
      "displayName": "",
      "isAnonymous": false,
      "isMe": true,
      "permissionId": "",
      "photoUrl": "",
      "sessionId": "0",
      "userId": ""
     },
     "user_tz": 480
    },
    "id": "IRSyYiIIGIzS",
    "outputId": "3f8996ee-3574-4f44-c953-5c8a04636582"
   },
   "outputs": [
    {
     "name": "stdout",
     "output_type": "stream",
     "text": [
      "Training set (200000, 784) (200000, 10)\n",
      "Validation set (10000, 784) (10000, 10)\n",
      "Test set (10000, 784) (10000, 10)\n"
     ]
    }
   ],
   "source": [
    "image_size = 28\n",
    "num_labels = 10\n",
    "\n",
    "def reformat(dataset, labels):\n",
    "  dataset = dataset.reshape((-1, image_size * image_size)).astype(np.float32)\n",
    "  # Map 1 to [0.0, 1.0, 0.0 ...], 2 to [0.0, 0.0, 1.0 ...]\n",
    "  labels = (np.arange(num_labels) == labels[:,None]).astype(np.float32)\n",
    "  return dataset, labels\n",
    "train_dataset, train_labels = reformat(train_dataset, train_labels)\n",
    "valid_dataset, valid_labels = reformat(valid_dataset, valid_labels)\n",
    "test_dataset, test_labels = reformat(test_dataset, test_labels)\n",
    "print('Training set', train_dataset.shape, train_labels.shape)\n",
    "print('Validation set', valid_dataset.shape, valid_labels.shape)\n",
    "print('Test set', test_dataset.shape, test_labels.shape)"
   ]
  },
  {
   "cell_type": "code",
   "execution_count": 4,
   "metadata": {
    "cellView": "both",
    "colab": {
     "autoexec": {
      "startup": false,
      "wait_interval": 0
     }
    },
    "colab_type": "code",
    "collapsed": true,
    "id": "RajPLaL_ZW6w"
   },
   "outputs": [],
   "source": [
    "def accuracy(predictions, labels):\n",
    "  return (100.0 * np.sum(np.argmax(predictions, 1) == np.argmax(labels, 1))\n",
    "          / predictions.shape[0])"
   ]
  },
  {
   "cell_type": "markdown",
   "metadata": {
    "colab_type": "text",
    "id": "sgLbUAQ1CW-1"
   },
   "source": [
    "---\n",
    "Problem 1\n",
    "---------\n",
    "\n",
    "Introduce and tune L2 regularization for both logistic and neural network models. Remember that L2 amounts to adding a penalty on the norm of the weights to the loss. In TensorFlow, you can compute the L2 loss for a tensor `t` using `nn.l2_loss(t)`. The right amount of regularization should improve your validation / test accuracy.\n",
    "\n",
    "---"
   ]
  },
  {
   "cell_type": "code",
   "execution_count": 5,
   "metadata": {},
   "outputs": [
    {
     "name": "stdout",
     "output_type": "stream",
     "text": [
      "WARNING:tensorflow:From <ipython-input-5-aefcc1090365>:19: softmax_cross_entropy_with_logits (from tensorflow.python.ops.nn_ops) is deprecated and will be removed in a future version.\n",
      "Instructions for updating:\n",
      "\n",
      "Future major versions of TensorFlow will allow gradients to flow\n",
      "into the labels input on backprop by default.\n",
      "\n",
      "See tf.nn.softmax_cross_entropy_with_logits_v2.\n",
      "\n"
     ]
    }
   ],
   "source": [
    "train_subset = 10000\n",
    "l2_penalty = 0.01\n",
    "\n",
    "graph = tf.Graph()\n",
    "with graph.as_default():\n",
    "\n",
    "  tf_train_dataset = tf.constant(train_dataset[:train_subset, :])\n",
    "  tf_train_labels = tf.constant(train_labels[:train_subset])\n",
    "\n",
    "  tf_valid_dataset = tf.constant(valid_dataset)\n",
    "  tf_test_dataset = tf.constant(test_dataset)\n",
    "\n",
    "  weights = tf.Variable(\n",
    "    tf.truncated_normal([image_size * image_size, num_labels]))\n",
    "  biases = tf.Variable(tf.zeros([num_labels]))\n",
    " \n",
    "  logits = tf.matmul(tf_train_dataset,weights) + biases\n",
    "  loss = tf.reduce_mean(\n",
    "    tf.nn.softmax_cross_entropy_with_logits(labels=tf_train_labels, logits=logits))\n",
    "  loss = loss + l2_penalty * tf.nn.l2_loss(weights)\n",
    "  # TODO add L2 regularization to the unregu\n",
    "\n",
    "  # Optimizer.\n",
    "  # We are going to find the minimum of this loss using gradient descent.\n",
    "  optimizer = tf.train.GradientDescentOptimizer(0.5).minimize(loss)\n",
    "  \n",
    "  # Predictions for the training, validation, and test data.\n",
    "  # These are not part of training, but merely here so that we can report\n",
    "  # accuracy figures as we train.\n",
    "  train_prediction = tf.nn.softmax(logits)\n",
    "  valid_prediction = tf.nn.softmax(\n",
    "    tf.matmul(tf_valid_dataset, weights) + biases)\n",
    "  test_prediction = tf.nn.softmax(tf.matmul(tf_test_dataset, weights) + biases)"
   ]
  },
  {
   "cell_type": "code",
   "execution_count": 6,
   "metadata": {},
   "outputs": [
    {
     "name": "stdout",
     "output_type": "stream",
     "text": [
      "Initialized\n",
      "Loss at step 0: 53.994820\n",
      "Training accuracy: 4.3%\n",
      "Validation accuracy: 5.9%\n",
      "Loss at step 100: 11.697384\n",
      "Training accuracy: 74.0%\n",
      "Validation accuracy: 73.5%\n",
      "Loss at step 200: 4.429626\n",
      "Training accuracy: 78.8%\n",
      "Validation accuracy: 77.7%\n",
      "Loss at step 300: 1.961160\n",
      "Training accuracy: 81.8%\n",
      "Validation accuracy: 80.6%\n",
      "Loss at step 400: 1.125648\n",
      "Training accuracy: 83.3%\n",
      "Validation accuracy: 81.8%\n",
      "Loss at step 500: 0.839356\n",
      "Training accuracy: 83.8%\n",
      "Validation accuracy: 82.2%\n",
      "Loss at step 600: 0.739983\n",
      "Training accuracy: 83.9%\n",
      "Validation accuracy: 82.4%\n",
      "Loss at step 700: 0.705147\n",
      "Training accuracy: 84.0%\n",
      "Validation accuracy: 82.5%\n",
      "Loss at step 800: 0.692838\n",
      "Training accuracy: 84.0%\n",
      "Validation accuracy: 82.5%\n",
      "Loss at step 900: 0.688456\n",
      "Training accuracy: 84.0%\n",
      "Validation accuracy: 82.5%\n",
      "Test accuracy: 88.3%\n"
     ]
    }
   ],
   "source": [
    "num_steps = 901\n",
    "\n",
    "def accuracy(predictions, labels):\n",
    "  return (100.0 * np.sum(np.argmax(predictions, 1) == np.argmax(labels, 1))\n",
    "          / predictions.shape[0])\n",
    "\n",
    "with tf.Session(graph=graph) as session:\n",
    "  # This is a one-time operation which ensures the parameters get initialized as\n",
    "  # we described in the graph: random weights for the matrix, zeros for the\n",
    "  # biases. \n",
    "  tf.global_variables_initializer().run()\n",
    "  print('Initialized')\n",
    "  for step in range(num_steps):\n",
    "    _, l, predictions = session.run([optimizer, loss, train_prediction])\n",
    "    if (step % 100 == 0):\n",
    "      print('Loss at step %d: %f' % (step, l))\n",
    "      print('Training accuracy: %.1f%%' % accuracy(\n",
    "        predictions, train_labels[:train_subset, :]))\n",
    "      # Calling .eval() on valid_prediction is basically like calling run(), but\n",
    "      # just to get that one numpy array. Note that it recomputes all its graph\n",
    "      # dependencies.\n",
    "      print('Validation accuracy: %.1f%%' % accuracy(\n",
    "        valid_prediction.eval(), valid_labels))\n",
    "  print('Test accuracy: %.1f%%' % accuracy(test_prediction.eval(), test_labels))"
   ]
  },
  {
   "cell_type": "code",
   "execution_count": 228,
   "metadata": {
    "collapsed": true
   },
   "outputs": [],
   "source": [
    "batch_size = 10\n",
    "num_nodes = 1024\n",
    "\n",
    "def runHiddenNetwork(batch_size=128, num_steps = 3001, use_l2 = True, use_dropout = False, prob_val = 1.0) :\n",
    "    graphRelu = tf.Graph()\n",
    "    with graphRelu.as_default():\n",
    "        keep_prob = tf.placeholder(tf.float32)\n",
    "        # Input data. For the training data, we use a placeholder that will be fed\n",
    "        # at run time with a training minibatch.\n",
    "        tf_train_dataset = tf.placeholder(tf.float32,\n",
    "                                        shape=(batch_size, image_size * image_size))\n",
    "        tf_train_labels = tf.placeholder(tf.float32, shape=(batch_size, num_labels))\n",
    "        tf_valid_dataset = tf.constant(valid_dataset)\n",
    "        tf_test_dataset = tf.constant(test_dataset)\n",
    "        # Variables.\n",
    "        weights_1 = tf.Variable(tf.truncated_normal([image_size * image_size, num_nodes]))\n",
    "        biases_1 = tf.Variable(tf.zeros([num_nodes]))\n",
    "        weights_2 = tf.Variable( tf.truncated_normal([num_nodes, num_labels]))\n",
    "        biases_2 = tf.Variable(tf.zeros([num_labels]))\n",
    "        logits_1 = tf.matmul(tf_train_dataset, weights_1) + biases_1\n",
    "      \n",
    "        relu_layer = tf.nn.relu(logits_1)  \n",
    "        if(use_dropout) :\n",
    "            relu_layer = tf.nn.dropout(relu_layer,keep_prob)\n",
    "        logits_2 = tf.matmul(relu_layer, weights_2) + biases_2 # out layer --------------------------------\n",
    "        loss = tf.reduce_mean(tf.nn.softmax_cross_entropy_with_logits_v2(logits=logits_2,labels=tf_train_labels))\n",
    "        if(use_l2):\n",
    "            loss = loss + l2_penalty * tf.nn.l2_loss(weights_1)  + l2_penalty * tf.nn.l2_loss(weights_2)\n",
    "        # Optimizer.\n",
    "        optimizer = tf.train.GradientDescentOptimizer(0.5).minimize(loss)\n",
    "        train_prediction = tf.nn.softmax(logits_2)\n",
    "        \n",
    "        logits_1 = tf.matmul(tf_test_dataset, weights_1) + biases_1\n",
    "        relu_layer = tf.nn.relu(logits_1)\n",
    "        logits_2 = tf.matmul(relu_layer, weights_2) + biases_2\n",
    "        test_prediction =  tf.nn.softmax(logits_2)       \n",
    "        \n",
    "        with tf.Session(graph=graphRelu) as session:\n",
    "            tf.initialize_all_variables().run()\n",
    "            print(\"Initialized\")\n",
    "            for step in range(num_steps):\n",
    "                # Pick an offset within the training data, which has been randomized.\n",
    "                # Note: we could use better randomization across epochs.\n",
    "                offset = (step * batch_size) % (train_labels.shape[0] - batch_size)\n",
    "                # Generate a minibatch.\n",
    "                batch_data = train_dataset[offset:(offset + batch_size), :]\n",
    "                batch_labels = train_labels[offset:(offset + batch_size), :]\n",
    "                # Prepare a dictionary telling the session where to feed the minibatch.\n",
    "                # The key of the dictionary is the placeholder node of the graph to be fed,\n",
    "                # and the value is the numpy array to feed to it.\n",
    "                feed_dict = {tf_train_dataset : batch_data, tf_train_labels : batch_labels, keep_prob:prob_val}\n",
    "                _, l, predictions = session.run([optimizer, loss, train_prediction], feed_dict=feed_dict)\n",
    "                if (step % 500 == 0):\n",
    "                    print(\"Minibatch loss at step {}: {}\".format(step, l))\n",
    "                    print(\"Minibatch accuracy: {:.1f}\".format(accuracy(predictions, batch_labels)))\n",
    "            print(\"Test accuracy: {:.1f}\".format(accuracy(test_prediction.eval(), test_labels)))\n",
    "            #test_prediction.eval()"
   ]
  },
  {
   "cell_type": "code",
   "execution_count": 229,
   "metadata": {},
   "outputs": [
    {
     "name": "stdout",
     "output_type": "stream",
     "text": [
      "Initialized\n",
      "Minibatch loss at step 0: 3523.802490234375\n",
      "Minibatch accuracy: 10.9\n",
      "Minibatch loss at step 500: 21.427549362182617\n",
      "Minibatch accuracy: 81.2\n",
      "Minibatch loss at step 1000: 0.8606820702552795\n",
      "Minibatch accuracy: 84.4\n",
      "Minibatch loss at step 1500: 0.6477633118629456\n",
      "Minibatch accuracy: 85.2\n",
      "Minibatch loss at step 2000: 0.859876811504364\n",
      "Minibatch accuracy: 81.2\n",
      "Minibatch loss at step 2500: 0.8306270837783813\n",
      "Minibatch accuracy: 79.7\n",
      "Minibatch loss at step 3000: 0.8443604707717896\n",
      "Minibatch accuracy: 79.7\n",
      "Test accuracy: 90.3\n"
     ]
    }
   ],
   "source": [
    "runHiddenNetwork(batch_size=128, use_l2 = True)"
   ]
  },
  {
   "cell_type": "markdown",
   "metadata": {
    "colab_type": "text",
    "id": "na8xX2yHZzNF"
   },
   "source": [
    "---\n",
    "Problem 2\n",
    "---------\n",
    "Let's demonstrate an extreme case of overfitting. Restrict your training data to just a few batches. What happens?\n",
    "\n",
    "---"
   ]
  },
  {
   "cell_type": "code",
   "execution_count": 86,
   "metadata": {},
   "outputs": [
    {
     "name": "stdout",
     "output_type": "stream",
     "text": [
      "Initialized\n",
      "Minibatch loss at step 0: 3345.192626953125\n",
      "Minibatch accuracy: 20.0\n",
      "Validation accuracy: 9.9\n",
      "Minibatch loss at step 500: 25.68628692626953\n",
      "Minibatch accuracy: 66.7\n",
      "Validation accuracy: 9.9\n",
      "Minibatch loss at step 1000: 1.0143487453460693\n",
      "Minibatch accuracy: 80.0\n",
      "Validation accuracy: 9.9\n",
      "Minibatch loss at step 1500: 0.8083603978157043\n",
      "Minibatch accuracy: 86.7\n",
      "Validation accuracy: 9.7\n",
      "Minibatch loss at step 2000: 2.027414083480835\n",
      "Minibatch accuracy: 66.7\n",
      "Validation accuracy: 9.9\n",
      "Minibatch loss at step 2500: 0.9328392744064331\n",
      "Minibatch accuracy: 86.7\n",
      "Validation accuracy: 9.6\n",
      "Minibatch loss at step 3000: 0.9668338894844055\n",
      "Minibatch accuracy: 86.7\n",
      "Validation accuracy: 9.7\n",
      "Test accuracy: 78.5\n"
     ]
    }
   ],
   "source": [
    "# TODO add cell for \n",
    "runHiddenNetwork(batch_size=15, use_l2 = True,prob_val=0.3)"
   ]
  },
  {
   "cell_type": "code",
   "execution_count": 17,
   "metadata": {},
   "outputs": [
    {
     "name": "stdout",
     "output_type": "stream",
     "text": [
      "Initialized\n",
      "Minibatch loss at step 0: 432.0465393066406\n",
      "Minibatch accuracy: 6.7\n",
      "Validation accuracy: 9.9\n",
      "Minibatch loss at step 500: 562.5569458007812\n",
      "Minibatch accuracy: 46.7\n",
      "Validation accuracy: 10.1\n",
      "Minibatch loss at step 1000: 42.18056869506836\n",
      "Minibatch accuracy: 73.3\n",
      "Validation accuracy: 9.5\n",
      "Minibatch loss at step 1500: 5.027500629425049\n",
      "Minibatch accuracy: 80.0\n",
      "Validation accuracy: 10.0\n",
      "Minibatch loss at step 2000: 360.86163330078125\n",
      "Minibatch accuracy: 40.0\n",
      "Validation accuracy: 10.0\n",
      "Minibatch loss at step 2500: 51.16738510131836\n",
      "Minibatch accuracy: 66.7\n",
      "Validation accuracy: 10.2\n",
      "Minibatch loss at step 3000: 13.242948532104492\n",
      "Minibatch accuracy: 53.3\n",
      "Validation accuracy: 9.8\n",
      "Test accuracy: 66.1\n"
     ]
    }
   ],
   "source": [
    "runHiddenNetwork(batch_size=15, use_l2 = False)"
   ]
  },
  {
   "cell_type": "markdown",
   "metadata": {
    "colab_type": "text",
    "id": "ww3SCBUdlkRc"
   },
   "source": [
    "---\n",
    "Problem 3\n",
    "---------\n",
    "Introduce Dropout on the hidden layer of the neural network. Remember: Dropout should only be introduced during training, not evaluation, otherwise your evaluation results would be stochastic as well. TensorFlow provides `nn.dropout()` for that, but you have to make sure it's only inserted during training.\n",
    "\n",
    "What happens to our extreme overfitting case?\n",
    "\n",
    "---"
   ]
  },
  {
   "cell_type": "code",
   "execution_count": 132,
   "metadata": {},
   "outputs": [
    {
     "name": "stdout",
     "output_type": "stream",
     "text": [
      "Initialized\n",
      "Minibatch loss at step 0: 3465.649169921875\n",
      "Minibatch accuracy: 14.1\n",
      "Validation accuracy: 9.7\n",
      "Minibatch loss at step 500: 21.447690963745117\n",
      "Minibatch accuracy: 82.0\n",
      "Validation accuracy: 9.9\n",
      "Minibatch loss at step 1000: 0.8571628928184509\n",
      "Minibatch accuracy: 85.2\n",
      "Validation accuracy: 9.8\n",
      "Minibatch loss at step 1500: 0.6506479382514954\n",
      "Minibatch accuracy: 85.2\n",
      "Validation accuracy: 9.9\n",
      "Minibatch loss at step 2000: 0.8610601425170898\n",
      "Minibatch accuracy: 80.5\n",
      "Validation accuracy: 9.8\n",
      "Minibatch loss at step 2500: 0.8247969150543213\n",
      "Minibatch accuracy: 79.7\n",
      "Validation accuracy: 9.9\n",
      "Minibatch loss at step 3000: 0.8407757878303528\n",
      "Minibatch accuracy: 79.7\n",
      "Validation accuracy: 9.7\n",
      "Test accuracy: 90.2\n"
     ]
    }
   ],
   "source": [
    "runHiddenNetwork(batch_size=128, use_l2 = True, use_dropout=True, prob_val=1)"
   ]
  },
  {
   "cell_type": "code",
   "execution_count": 129,
   "metadata": {},
   "outputs": [
    {
     "name": "stdout",
     "output_type": "stream",
     "text": [
      "Initialized\n",
      "Minibatch loss at step 0: 282.3809814453125\n",
      "Minibatch accuracy: 14.1\n",
      "Validation accuracy: 10.2\n",
      "Minibatch loss at step 500: 26.93463897705078\n",
      "Minibatch accuracy: 74.2\n",
      "Validation accuracy: 9.8\n",
      "Minibatch loss at step 1000: 11.227489471435547\n",
      "Minibatch accuracy: 81.2\n",
      "Validation accuracy: 9.8\n",
      "Minibatch loss at step 1500: 5.092199325561523\n",
      "Minibatch accuracy: 87.5\n",
      "Validation accuracy: 9.9\n",
      "Minibatch loss at step 2000: 2.906925678253174\n",
      "Minibatch accuracy: 80.5\n",
      "Validation accuracy: 9.7\n",
      "Minibatch loss at step 2500: 7.554278373718262\n",
      "Minibatch accuracy: 76.6\n",
      "Validation accuracy: 9.9\n",
      "Minibatch loss at step 3000: 5.419881820678711\n",
      "Minibatch accuracy: 76.6\n",
      "Validation accuracy: 9.8\n",
      "Test accuracy: 87.7\n"
     ]
    }
   ],
   "source": [
    "runHiddenNetwork(batch_size=128, use_l2 = False, use_dropout=False)"
   ]
  },
  {
   "cell_type": "code",
   "execution_count": 130,
   "metadata": {},
   "outputs": [
    {
     "name": "stdout",
     "output_type": "stream",
     "text": [
      "Initialized\n",
      "Minibatch loss at step 0: 3495.68896484375\n",
      "Minibatch accuracy: 16.4\n",
      "Validation accuracy: 10.1\n",
      "Minibatch loss at step 500: 21.380821228027344\n",
      "Minibatch accuracy: 79.7\n",
      "Validation accuracy: 9.8\n",
      "Minibatch loss at step 1000: 0.8532900214195251\n",
      "Minibatch accuracy: 85.9\n",
      "Validation accuracy: 9.8\n",
      "Minibatch loss at step 1500: 0.6555989980697632\n",
      "Minibatch accuracy: 84.4\n",
      "Validation accuracy: 9.9\n",
      "Minibatch loss at step 2000: 0.8512094020843506\n",
      "Minibatch accuracy: 80.5\n",
      "Validation accuracy: 9.8\n",
      "Minibatch loss at step 2500: 0.8277495503425598\n",
      "Minibatch accuracy: 80.5\n",
      "Validation accuracy: 9.9\n",
      "Minibatch loss at step 3000: 0.8403833508491516\n",
      "Minibatch accuracy: 79.7\n",
      "Validation accuracy: 9.7\n",
      "Test accuracy: 90.3\n"
     ]
    }
   ],
   "source": [
    "runHiddenNetwork(batch_size=128, use_l2 = True, use_dropout=False)"
   ]
  },
  {
   "cell_type": "markdown",
   "metadata": {
    "colab_type": "text",
    "id": "-b1hTz3VWZjw"
   },
   "source": [
    "---\n",
    "Problem 4\n",
    "---------\n",
    "\n",
    "Try to get the best performance you can using a multi-layer model! The best reported test accuracy using a deep network is [97.1%](http://yaroslavvb.blogspot.com/2011/09/notmnist-dataset.html?showComment=1391023266211#c8758720086795711595).\n",
    "\n",
    "One avenue you can explore is to add multiple layers.\n",
    "\n",
    "Another one is to use learning rate decay:\n",
    "\n",
    "    global_step = tf.Variable(0)  # count the number of steps taken.\n",
    "    learning_rate = tf.train.exponential_decay(0.5, global_step, ...)\n",
    "    optimizer = tf.train.GradientDescentOptimizer(learning_rate).minimize(loss, global_step=global_step)\n",
    " \n",
    " ---\n"
   ]
  },
  {
   "cell_type": "code",
   "execution_count": 265,
   "metadata": {},
   "outputs": [
    {
     "name": "stdout",
     "output_type": "stream",
     "text": [
      "1024\n",
      "512\n",
      "256\n",
      "784\n"
     ]
    }
   ],
   "source": [
    "batch_size = 10\n",
    "\n",
    "hidden_nodes_1 = 1024\n",
    "hidden_nodes_2 = int(hidden_nodes_1 * 0.5)\n",
    "hidden_nodes_3 = int(hidden_nodes_1 * np.power(0.5, 2))\n",
    "hidden_nodes_4 = int(hidden_nodes_1 * np.power(0.5, 3))\n",
    "\n",
    "\n",
    "print(num_nodes_1)\n",
    "print(num_nodes_2)\n",
    "print(num_nodes_3)\n",
    "print(image_size * image_size)\n",
    "\n",
    "def runHiddenNetworkMulti(batch_size=128, num_steps = 3001) :\n",
    "    graphRelu = tf.Graph()\n",
    "    with graphRelu.as_default():\n",
    "        keep_prob = tf.placeholder(tf.float32)\n",
    "        # Input data. For the training data, we use a placeholder that will be fed\n",
    "        # at run time with a training minibatch.\n",
    "        tf_train_dataset = tf.placeholder(tf.float32,\n",
    "                                        shape=(batch_size, image_size * image_size))\n",
    "        tf_train_labels = tf.placeholder(tf.float32, shape=(batch_size, num_labels))\n",
    "        tf_valid_dataset = tf.constant(valid_dataset)\n",
    "        tf_test_dataset = tf.constant(test_dataset)\n",
    "        # Variables.\n",
    "        \n",
    "        \n",
    "        \n",
    "        weights_1 = tf.Variable(tf.truncated_normal([image_size * image_size, num_nodes_1]))\n",
    "        biases_1 = tf.Variable(tf.zeros([num_nodes_1]))\n",
    "        weights_2 = tf.Variable( tf.truncated_normal([num_nodes_1, num_nodes_2]))\n",
    "        biases_2 = tf.Variable(tf.zeros([num_nodes_2]))\n",
    "        weights_3 = tf.Variable( tf.truncated_normal([num_nodes_2, num_nodes_3]))\n",
    "        biases_3 = tf.Variable(tf.zeros([num_nodes_3]))\n",
    "\n",
    "        weights_4 = tf.Variable( tf.truncated_normal([num_nodes_3, num_labels]))\n",
    "        biases_4 = tf.Variable(tf.zeros([num_labels]))\n",
    "        \n",
    "        logits_1 = tf.matmul(tf_train_dataset, weights_1) + biases_1\n",
    "        relu_layer_1 = tf.nn.relu(logits_1)  \n",
    "        logits_2 = tf.matmul(relu_layer_1, weights_2) + biases_2     \n",
    "        relu_layer_2 = tf.nn.relu(logits_2)  \n",
    "        logits_3 = tf.matmul(relu_layer_2, weights_3) + biases_3\n",
    "        relu_layer_3 = tf.nn.relu(logits_3)  \n",
    "        logits_4 = tf.matmul(relu_layer_3, weights_4) + biases_4\n",
    "        \n",
    "        loss = tf.reduce_mean(tf.nn.softmax_cross_entropy_with_logits_v2(logits=logits_4,labels=tf_train_labels))\n",
    "        optimizer = tf.train.GradientDescentOptimizer(0.5).minimize(loss)\n",
    "        train_prediction = tf.nn.softmax(logits_4)\n",
    "        \n",
    "        \n",
    "        # Predictions for test\n",
    "        logits_1 = tf.matmul(tf_test_dataset, weights_1) + biases_1\n",
    "        relu_layer_1 = tf.nn.relu(logits_1)\n",
    "        logits_2 = tf.matmul(relu_layer_1, weights_2) + biases_2\n",
    "        relu_layer_2 = tf.nn.relu(logits_2)\n",
    "        logits_3 = tf.matmul(relu_layer_2, weights_3) + biases_3\n",
    "        relu_layer_3 = tf.nn.relu(logits_3)\n",
    "        logits_4 = tf.matmul(relu_layer_3, weights_4) + biases_4\n",
    "        test_prediction =  tf.nn.softmax(logits_4)   \n",
    "\n",
    "        \n",
    "        with tf.Session(graph=graphRelu) as session:\n",
    "            tf.initialize_all_variables().run()\n",
    "            print(\"Initialized\")\n",
    "            for step in range(num_steps):\n",
    "                # Pick an offset within the training data, which has been randomized.\n",
    "                # Note: we could use better randomization across epochs.\n",
    "                offset = (step * batch_size) % (train_labels.shape[0] - batch_size)\n",
    "                # Generate a minibatch.\n",
    "                batch_data = train_dataset[offset:(offset + batch_size), :]\n",
    "                batch_labels = train_labels[offset:(offset + batch_size), :]\n",
    "                # Prepare a dictionary telling the session where to feed the minibatch.\n",
    "                # The key of the dictionary is the placeholder node of the graph to be fed,\n",
    "                # and the value is the numpy array to feed to it.\n",
    "                feed_dict = {tf_train_dataset : batch_data, tf_train_labels : batch_labels, keep_prob:}\n",
    "                _, l, predictions = session.run([optimizer, loss, train_prediction], feed_dict=feed_dict)\n",
    "                if (step % 500 == 0):\n",
    "                    print(\"Minibatch loss at step {}: {}\".format(step, l))\n",
    "                    print(\"Minibatch accuracy: {:.1f}\".format(accuracy(predictions, batch_labels)))\n",
    "            print(\"Test accuracy: {:.1f}\".format(accuracy(test_prediction.eval(), test_labels)))\n"
   ]
  },
  {
   "cell_type": "code",
   "execution_count": 266,
   "metadata": {},
   "outputs": [
    {
     "name": "stdout",
     "output_type": "stream",
     "text": [
      "Initialized\n",
      "Minibatch loss at step 0: 11.053153038024902\n",
      "Minibatch accuracy: 10.2\n",
      "Minibatch loss at step 500: nan\n",
      "Minibatch accuracy: 9.4\n",
      "Minibatch loss at step 1000: nan\n",
      "Minibatch accuracy: 8.6\n",
      "Minibatch loss at step 1500: nan\n",
      "Minibatch accuracy: 11.7\n",
      "Minibatch loss at step 2000: nan\n",
      "Minibatch accuracy: 6.2\n",
      "Minibatch loss at step 2500: nan\n",
      "Minibatch accuracy: 10.2\n",
      "Minibatch loss at step 3000: nan\n",
      "Minibatch accuracy: 7.8\n",
      "Test accuracy: 10.0\n"
     ]
    }
   ],
   "source": [
    "runHiddenNetworkMulti(batch_size=128)"
   ]
  },
  {
   "cell_type": "code",
   "execution_count": null,
   "metadata": {
    "collapsed": true
   },
   "outputs": [],
   "source": []
  },
  {
   "cell_type": "code",
   "execution_count": null,
   "metadata": {
    "collapsed": true
   },
   "outputs": [],
   "source": []
  }
 ],
 "metadata": {
  "colab": {
   "default_view": {},
   "name": "3_regularization.ipynb",
   "provenance": [],
   "version": "0.3.2",
   "views": {}
  },
  "kernelspec": {
   "display_name": "Python 3",
   "language": "python",
   "name": "python3"
  },
  "language_info": {
   "codemirror_mode": {
    "name": "ipython",
    "version": 3
   },
   "file_extension": ".py",
   "mimetype": "text/x-python",
   "name": "python",
   "nbconvert_exporter": "python",
   "pygments_lexer": "ipython3",
   "version": "3.5.4"
  }
 },
 "nbformat": 4,
 "nbformat_minor": 1
}

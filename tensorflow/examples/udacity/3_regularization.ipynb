{
 "cells": [
  {
   "cell_type": "markdown",
   "metadata": {
    "colab_type": "text",
    "id": "kR-4eNdK6lYS"
   },
   "source": [
    "Deep Learning\n",
    "=============\n",
    "\n",
    "Assignment 3\n",
    "------------\n",
    "\n",
    "Previously in `2_fullyconnected.ipynb`, you trained a logistic regression and a neural network model.\n",
    "\n",
    "The goal of this assignment is to explore regularization techniques."
   ]
  },
  {
   "cell_type": "code",
   "execution_count": 1,
   "metadata": {
    "cellView": "both",
    "colab": {
     "autoexec": {
      "startup": false,
      "wait_interval": 0
     }
    },
    "colab_type": "code",
    "collapsed": true,
    "id": "JLpLa8Jt7Vu4"
   },
   "outputs": [],
   "source": [
    "# These are all the modules we'll be using later. Make sure you can import them\n",
    "# before proceeding further.\n",
    "from __future__ import print_function\n",
    "import numpy as np\n",
    "import tensorflow as tf\n",
    "import math as math\n",
    "from six.moves import cPickle as pickle"
   ]
  },
  {
   "cell_type": "markdown",
   "metadata": {
    "colab_type": "text",
    "id": "1HrCK6e17WzV"
   },
   "source": [
    "First reload the data we generated in `1_notmnist.ipynb`."
   ]
  },
  {
   "cell_type": "code",
   "execution_count": 2,
   "metadata": {
    "cellView": "both",
    "colab": {
     "autoexec": {
      "startup": false,
      "wait_interval": 0
     },
     "output_extras": [
      {
       "item_id": 1
      }
     ]
    },
    "colab_type": "code",
    "executionInfo": {
     "elapsed": 11777,
     "status": "ok",
     "timestamp": 1449849322348,
     "user": {
      "color": "",
      "displayName": "",
      "isAnonymous": false,
      "isMe": true,
      "permissionId": "",
      "photoUrl": "",
      "sessionId": "0",
      "userId": ""
     },
     "user_tz": 480
    },
    "id": "y3-cj1bpmuxc",
    "outputId": "e03576f1-ebbe-4838-c388-f1777bcc9873"
   },
   "outputs": [
    {
     "name": "stdout",
     "output_type": "stream",
     "text": [
      "Training set (200000, 28, 28) (200000,)\n",
      "Validation set (10000, 28, 28) (10000,)\n",
      "Test set (10000, 28, 28) (10000,)\n"
     ]
    }
   ],
   "source": [
    "pickle_file = 'notMNIST.pickle'\n",
    "\n",
    "with open(pickle_file, 'rb') as f:\n",
    "  save = pickle.load(f)\n",
    "  train_dataset = save['train_dataset']\n",
    "  train_labels = save['train_labels']\n",
    "  valid_dataset = save['valid_dataset']\n",
    "  valid_labels = save['valid_labels']\n",
    "  test_dataset = save['test_dataset']\n",
    "  test_labels = save['test_labels']\n",
    "  del save  # hint to help gc free up memory\n",
    "  print('Training set', train_dataset.shape, train_labels.shape)\n",
    "  print('Validation set', valid_dataset.shape, valid_labels.shape)\n",
    "  print('Test set', test_dataset.shape, test_labels.shape)"
   ]
  },
  {
   "cell_type": "markdown",
   "metadata": {
    "colab_type": "text",
    "id": "L7aHrm6nGDMB"
   },
   "source": [
    "Reformat into a shape that's more adapted to the models we're going to train:\n",
    "- data as a flat matrix,\n",
    "- labels as float 1-hot encodings."
   ]
  },
  {
   "cell_type": "code",
   "execution_count": 3,
   "metadata": {
    "cellView": "both",
    "colab": {
     "autoexec": {
      "startup": false,
      "wait_interval": 0
     },
     "output_extras": [
      {
       "item_id": 1
      }
     ]
    },
    "colab_type": "code",
    "executionInfo": {
     "elapsed": 11728,
     "status": "ok",
     "timestamp": 1449849322356,
     "user": {
      "color": "",
      "displayName": "",
      "isAnonymous": false,
      "isMe": true,
      "permissionId": "",
      "photoUrl": "",
      "sessionId": "0",
      "userId": ""
     },
     "user_tz": 480
    },
    "id": "IRSyYiIIGIzS",
    "outputId": "3f8996ee-3574-4f44-c953-5c8a04636582"
   },
   "outputs": [
    {
     "name": "stdout",
     "output_type": "stream",
     "text": [
      "Training set (200000, 784) (200000, 10)\n",
      "Validation set (10000, 784) (10000, 10)\n",
      "Test set (10000, 784) (10000, 10)\n"
     ]
    }
   ],
   "source": [
    "image_size = 28\n",
    "num_labels = 10\n",
    "\n",
    "def reformat(dataset, labels):\n",
    "  dataset = dataset.reshape((-1, image_size * image_size)).astype(np.float32)\n",
    "  # Map 1 to [0.0, 1.0, 0.0 ...], 2 to [0.0, 0.0, 1.0 ...]\n",
    "  labels = (np.arange(num_labels) == labels[:,None]).astype(np.float32)\n",
    "  return dataset, labels\n",
    "train_dataset, train_labels = reformat(train_dataset, train_labels)\n",
    "valid_dataset, valid_labels = reformat(valid_dataset, valid_labels)\n",
    "test_dataset, test_labels = reformat(test_dataset, test_labels)\n",
    "print('Training set', train_dataset.shape, train_labels.shape)\n",
    "print('Validation set', valid_dataset.shape, valid_labels.shape)\n",
    "print('Test set', test_dataset.shape, test_labels.shape)"
   ]
  },
  {
   "cell_type": "code",
   "execution_count": 4,
   "metadata": {
    "cellView": "both",
    "colab": {
     "autoexec": {
      "startup": false,
      "wait_interval": 0
     }
    },
    "colab_type": "code",
    "collapsed": true,
    "id": "RajPLaL_ZW6w"
   },
   "outputs": [],
   "source": [
    "def accuracy(predictions, labels):\n",
    "  return (100.0 * np.sum(np.argmax(predictions, 1) == np.argmax(labels, 1))\n",
    "          / predictions.shape[0])"
   ]
  },
  {
   "cell_type": "markdown",
   "metadata": {
    "colab_type": "text",
    "id": "sgLbUAQ1CW-1"
   },
   "source": [
    "---\n",
    "Problem 1\n",
    "---------\n",
    "\n",
    "Introduce and tune L2 regularization for both logistic and neural network models. Remember that L2 amounts to adding a penalty on the norm of the weights to the loss. In TensorFlow, you can compute the L2 loss for a tensor `t` using `nn.l2_loss(t)`. The right amount of regularization should improve your validation / test accuracy.\n",
    "\n",
    "---"
   ]
  },
  {
   "cell_type": "code",
   "execution_count": 5,
   "metadata": {},
   "outputs": [
    {
     "name": "stdout",
     "output_type": "stream",
     "text": [
      "WARNING:tensorflow:From <ipython-input-5-aefcc1090365>:19: softmax_cross_entropy_with_logits (from tensorflow.python.ops.nn_ops) is deprecated and will be removed in a future version.\n",
      "Instructions for updating:\n",
      "\n",
      "Future major versions of TensorFlow will allow gradients to flow\n",
      "into the labels input on backprop by default.\n",
      "\n",
      "See tf.nn.softmax_cross_entropy_with_logits_v2.\n",
      "\n"
     ]
    }
   ],
   "source": [
    "train_subset = 10000\n",
    "l2_penalty = 0.01\n",
    "\n",
    "graph = tf.Graph()\n",
    "with graph.as_default():\n",
    "\n",
    "  tf_train_dataset = tf.constant(train_dataset[:train_subset, :])\n",
    "  tf_train_labels = tf.constant(train_labels[:train_subset])\n",
    "\n",
    "  tf_valid_dataset = tf.constant(valid_dataset)\n",
    "  tf_test_dataset = tf.constant(test_dataset)\n",
    "\n",
    "  weights = tf.Variable(\n",
    "    tf.truncated_normal([image_size * image_size, num_labels]))\n",
    "  biases = tf.Variable(tf.zeros([num_labels]))\n",
    " \n",
    "  logits = tf.matmul(tf_train_dataset,weights) + biases\n",
    "  loss = tf.reduce_mean(\n",
    "    tf.nn.softmax_cross_entropy_with_logits(labels=tf_train_labels, logits=logits))\n",
    "  loss = loss + l2_penalty * tf.nn.l2_loss(weights)\n",
    "  # TODO add L2 regularization to the unregu\n",
    "\n",
    "  # Optimizer.\n",
    "  # We are going to find the minimum of this loss using gradient descent.\n",
    "  optimizer = tf.train.GradientDescentOptimizer(0.5).minimize(loss)\n",
    "  \n",
    "  # Predictions for the training, validation, and test data.\n",
    "  # These are not part of training, but merely here so that we can report\n",
    "  # accuracy figures as we train.\n",
    "  train_prediction = tf.nn.softmax(logits)\n",
    "  valid_prediction = tf.nn.softmax(\n",
    "    tf.matmul(tf_valid_dataset, weights) + biases)\n",
    "  test_prediction = tf.nn.softmax(tf.matmul(tf_test_dataset, weights) + biases)"
   ]
  },
  {
   "cell_type": "code",
   "execution_count": 6,
   "metadata": {},
   "outputs": [
    {
     "name": "stdout",
     "output_type": "stream",
     "text": [
      "Initialized\n",
      "Loss at step 0: 47.349861\n",
      "Training accuracy: 9.4%\n",
      "Validation accuracy: 11.8%\n",
      "Loss at step 100: 11.959171\n",
      "Training accuracy: 74.0%\n",
      "Validation accuracy: 73.5%\n",
      "Loss at step 200: 4.528694\n",
      "Training accuracy: 79.0%\n",
      "Validation accuracy: 77.5%\n",
      "Loss at step 300: 1.997958\n",
      "Training accuracy: 82.4%\n",
      "Validation accuracy: 80.4%\n",
      "Loss at step 400: 1.138931\n",
      "Training accuracy: 83.5%\n",
      "Validation accuracy: 81.6%\n",
      "Loss at step 500: 0.844125\n",
      "Training accuracy: 83.8%\n",
      "Validation accuracy: 82.0%\n",
      "Loss at step 600: 0.741702\n",
      "Training accuracy: 84.0%\n",
      "Validation accuracy: 82.4%\n",
      "Loss at step 700: 0.705771\n",
      "Training accuracy: 84.1%\n",
      "Validation accuracy: 82.4%\n",
      "Loss at step 800: 0.693067\n",
      "Training accuracy: 84.1%\n",
      "Validation accuracy: 82.5%\n",
      "Loss at step 900: 0.688543\n",
      "Training accuracy: 84.0%\n",
      "Validation accuracy: 82.5%\n",
      "Test accuracy: 88.4%\n"
     ]
    }
   ],
   "source": [
    "num_steps = 901\n",
    "\n",
    "def accuracy(predictions, labels):\n",
    "  return (100.0 * np.sum(np.argmax(predictions, 1) == np.argmax(labels, 1))\n",
    "          / predictions.shape[0])\n",
    "\n",
    "with tf.Session(graph=graph) as session:\n",
    "  # This is a one-time operation which ensures the parameters get initialized as\n",
    "  # we described in the graph: random weights for the matrix, zeros for the\n",
    "  # biases. \n",
    "  tf.global_variables_initializer().run()\n",
    "  print('Initialized')\n",
    "  for step in range(num_steps):\n",
    "    _, l, predictions = session.run([optimizer, loss, train_prediction])\n",
    "    if (step % 100 == 0):\n",
    "      print('Loss at step %d: %f' % (step, l))\n",
    "      print('Training accuracy: %.1f%%' % accuracy(\n",
    "        predictions, train_labels[:train_subset, :]))\n",
    "      # Calling .eval() on valid_prediction is basically like calling run(), but\n",
    "      # just to get that one numpy array. Note that it recomputes all its graph\n",
    "      # dependencies.\n",
    "      print('Validation accuracy: %.1f%%' % accuracy(\n",
    "        valid_prediction.eval(), valid_labels))\n",
    "  print('Test accuracy: %.1f%%' % accuracy(test_prediction.eval(), test_labels))"
   ]
  },
  {
   "cell_type": "code",
   "execution_count": 7,
   "metadata": {
    "collapsed": true
   },
   "outputs": [],
   "source": [
    "batch_size = 10\n",
    "num_nodes = 1024\n",
    "\n",
    "def runHiddenNetwork(batch_size=128, num_steps = 3001, use_l2 = True, use_dropout = False, prob_val = 1.0) :\n",
    "    graphRelu = tf.Graph()\n",
    "    with graphRelu.as_default():\n",
    "        keep_prob = tf.placeholder(tf.float32)\n",
    "        # Input data. For the training data, we use a placeholder that will be fed\n",
    "        # at run time with a training minibatch.\n",
    "        tf_train_dataset = tf.placeholder(tf.float32,\n",
    "                                        shape=(batch_size, image_size * image_size))\n",
    "        tf_train_labels = tf.placeholder(tf.float32, shape=(batch_size, num_labels))\n",
    "        tf_valid_dataset = tf.constant(valid_dataset)\n",
    "        tf_test_dataset = tf.constant(test_dataset)\n",
    "        # Variables.\n",
    "        weights_1 = tf.Variable(tf.truncated_normal([image_size * image_size, num_nodes]))\n",
    "        biases_1 = tf.Variable(tf.zeros([num_nodes]))\n",
    "        weights_2 = tf.Variable( tf.truncated_normal([num_nodes, num_labels]))\n",
    "        biases_2 = tf.Variable(tf.zeros([num_labels]))\n",
    "        logits_1 = tf.matmul(tf_train_dataset, weights_1) + biases_1\n",
    "      \n",
    "        relu_layer = tf.nn.relu(logits_1)  \n",
    "        if(use_dropout) :\n",
    "            relu_layer = tf.nn.dropout(relu_layer,keep_prob)\n",
    "        logits_2 = tf.matmul(relu_layer, weights_2) + biases_2 # out layer --------------------------------\n",
    "        loss = tf.reduce_mean(tf.nn.softmax_cross_entropy_with_logits_v2(logits=logits_2,labels=tf_train_labels))\n",
    "        if(use_l2):\n",
    "            loss = loss + l2_penalty * tf.nn.l2_loss(weights_1)  + l2_penalty * tf.nn.l2_loss(weights_2)\n",
    "        # Optimizer.\n",
    "        optimizer = tf.train.GradientDescentOptimizer(0.5).minimize(loss)\n",
    "        train_prediction = tf.nn.softmax(logits_2)\n",
    "        \n",
    "        logits_1 = tf.matmul(tf_test_dataset, weights_1) + biases_1\n",
    "        relu_layer = tf.nn.relu(logits_1)\n",
    "        logits_2 = tf.matmul(relu_layer, weights_2) + biases_2\n",
    "        test_prediction =  tf.nn.softmax(logits_2)       \n",
    "        \n",
    "        with tf.Session(graph=graphRelu) as session:\n",
    "            tf.initialize_all_variables().run()\n",
    "            print(\"Initialized\")\n",
    "            for step in range(num_steps):\n",
    "                # Pick an offset within the training data, which has been randomized.\n",
    "                # Note: we could use better randomization across epochs.\n",
    "                offset = (step * batch_size) % (train_labels.shape[0] - batch_size)\n",
    "                # Generate a minibatch.\n",
    "                batch_data = train_dataset[offset:(offset + batch_size), :]\n",
    "                batch_labels = train_labels[offset:(offset + batch_size), :]\n",
    "                # Prepare a dictionary telling the session where to feed the minibatch.\n",
    "                # The key of the dictionary is the placeholder node of the graph to be fed,\n",
    "                # and the value is the numpy array to feed to it.\n",
    "                feed_dict = {tf_train_dataset : batch_data, tf_train_labels : batch_labels, keep_prob:prob_val}\n",
    "                _, l, predictions = session.run([optimizer, loss, train_prediction], feed_dict=feed_dict)\n",
    "                if (step % 500 == 0):\n",
    "                    print(\"Minibatch loss at step {}: {}\".format(step, l))\n",
    "                    print(\"Minibatch accuracy: {:.1f}\".format(accuracy(predictions, batch_labels)))\n",
    "            print(\"Test accuracy: {:.1f}\".format(accuracy(test_prediction.eval(), test_labels)))\n",
    "            #test_prediction.eval()"
   ]
  },
  {
   "cell_type": "code",
   "execution_count": 8,
   "metadata": {},
   "outputs": [
    {
     "name": "stdout",
     "output_type": "stream",
     "text": [
      "WARNING:tensorflow:From /mnt/6cda136a-89bc-4288-9529-138a103aedae/ml/conda/envs/artem_gpu/lib/python3.5/site-packages/tensorflow/python/util/tf_should_use.py:118: initialize_all_variables (from tensorflow.python.ops.variables) is deprecated and will be removed after 2017-03-02.\n",
      "Instructions for updating:\n",
      "Use `tf.global_variables_initializer` instead.\n",
      "Initialized\n",
      "Minibatch loss at step 0: 3445.111083984375\n",
      "Minibatch accuracy: 16.4\n",
      "Minibatch loss at step 500: 21.402061462402344\n",
      "Minibatch accuracy: 82.8\n",
      "Minibatch loss at step 1000: 0.8653470277786255\n",
      "Minibatch accuracy: 84.4\n",
      "Minibatch loss at step 1500: 0.6557348370552063\n",
      "Minibatch accuracy: 84.4\n",
      "Minibatch loss at step 2000: 0.864836573600769\n",
      "Minibatch accuracy: 79.7\n",
      "Minibatch loss at step 2500: 0.8298549056053162\n",
      "Minibatch accuracy: 79.7\n",
      "Minibatch loss at step 3000: 0.8453985452651978\n",
      "Minibatch accuracy: 79.7\n",
      "Test accuracy: 90.2\n"
     ]
    }
   ],
   "source": [
    "runHiddenNetwork(batch_size=128, use_l2 = True)"
   ]
  },
  {
   "cell_type": "markdown",
   "metadata": {
    "colab_type": "text",
    "id": "na8xX2yHZzNF"
   },
   "source": [
    "---\n",
    "Problem 2\n",
    "---------\n",
    "Let's demonstrate an extreme case of overfitting. Restrict your training data to just a few batches. What happens?\n",
    "\n",
    "---"
   ]
  },
  {
   "cell_type": "code",
   "execution_count": 9,
   "metadata": {},
   "outputs": [
    {
     "name": "stdout",
     "output_type": "stream",
     "text": [
      "Initialized\n",
      "Minibatch loss at step 0: 3425.365478515625\n",
      "Minibatch accuracy: 13.3\n",
      "Minibatch loss at step 500: 25.383543014526367\n",
      "Minibatch accuracy: 60.0\n",
      "Minibatch loss at step 1000: 1.0740028619766235\n",
      "Minibatch accuracy: 73.3\n",
      "Minibatch loss at step 1500: 0.9846184849739075\n",
      "Minibatch accuracy: 80.0\n",
      "Minibatch loss at step 2000: 2.09094500541687\n",
      "Minibatch accuracy: 73.3\n",
      "Minibatch loss at step 2500: 0.9718583226203918\n",
      "Minibatch accuracy: 80.0\n",
      "Minibatch loss at step 3000: 1.0301719903945923\n",
      "Minibatch accuracy: 80.0\n",
      "Test accuracy: 80.5\n"
     ]
    }
   ],
   "source": [
    "# TODO add cell for \n",
    "runHiddenNetwork(batch_size=15, use_l2 = True,prob_val=0.3)"
   ]
  },
  {
   "cell_type": "code",
   "execution_count": 10,
   "metadata": {},
   "outputs": [
    {
     "name": "stdout",
     "output_type": "stream",
     "text": [
      "Initialized\n",
      "Minibatch loss at step 0: 322.5880126953125\n",
      "Minibatch accuracy: 6.7\n",
      "Minibatch loss at step 500: 858.4832763671875\n",
      "Minibatch accuracy: 53.3\n",
      "Minibatch loss at step 1000: 37.38526153564453\n",
      "Minibatch accuracy: 53.3\n",
      "Minibatch loss at step 1500: 16.944679260253906\n",
      "Minibatch accuracy: 73.3\n",
      "Minibatch loss at step 2000: 218.5354461669922\n",
      "Minibatch accuracy: 46.7\n",
      "Minibatch loss at step 2500: 13.278840065002441\n",
      "Minibatch accuracy: 60.0\n",
      "Minibatch loss at step 3000: 2.4714014530181885\n",
      "Minibatch accuracy: 60.0\n",
      "Test accuracy: 60.0\n"
     ]
    }
   ],
   "source": [
    "runHiddenNetwork(batch_size=15, use_l2 = False)"
   ]
  },
  {
   "cell_type": "markdown",
   "metadata": {
    "colab_type": "text",
    "id": "ww3SCBUdlkRc"
   },
   "source": [
    "---\n",
    "Problem 3\n",
    "---------\n",
    "Introduce Dropout on the hidden layer of the neural network. Remember: Dropout should only be introduced during training, not evaluation, otherwise your evaluation results would be stochastic as well. TensorFlow provides `nn.dropout()` for that, but you have to make sure it's only inserted during training.\n",
    "\n",
    "What happens to our extreme overfitting case?\n",
    "\n",
    "---"
   ]
  },
  {
   "cell_type": "code",
   "execution_count": 11,
   "metadata": {},
   "outputs": [
    {
     "name": "stdout",
     "output_type": "stream",
     "text": [
      "Initialized\n",
      "Minibatch loss at step 0: 3424.615966796875\n",
      "Minibatch accuracy: 14.1\n",
      "Minibatch loss at step 500: 21.43058967590332\n",
      "Minibatch accuracy: 81.2\n",
      "Minibatch loss at step 1000: 0.859840452671051\n",
      "Minibatch accuracy: 85.2\n",
      "Minibatch loss at step 1500: 0.6387560367584229\n",
      "Minibatch accuracy: 85.2\n",
      "Minibatch loss at step 2000: 0.8508397936820984\n",
      "Minibatch accuracy: 80.5\n",
      "Minibatch loss at step 2500: 0.8196816444396973\n",
      "Minibatch accuracy: 80.5\n",
      "Minibatch loss at step 3000: 0.8435727953910828\n",
      "Minibatch accuracy: 79.7\n",
      "Test accuracy: 90.1\n"
     ]
    }
   ],
   "source": [
    "runHiddenNetwork(batch_size=128, use_l2 = True, use_dropout=True, prob_val=1)"
   ]
  },
  {
   "cell_type": "code",
   "execution_count": 12,
   "metadata": {},
   "outputs": [
    {
     "name": "stdout",
     "output_type": "stream",
     "text": [
      "Initialized\n",
      "Minibatch loss at step 0: 306.6317138671875\n",
      "Minibatch accuracy: 10.9\n",
      "Minibatch loss at step 500: 21.819091796875\n",
      "Minibatch accuracy: 75.0\n",
      "Minibatch loss at step 1000: 13.25208854675293\n",
      "Minibatch accuracy: 82.0\n",
      "Minibatch loss at step 1500: 7.70543098449707\n",
      "Minibatch accuracy: 82.0\n",
      "Minibatch loss at step 2000: 3.63161301612854\n",
      "Minibatch accuracy: 77.3\n",
      "Minibatch loss at step 2500: 3.66038179397583\n",
      "Minibatch accuracy: 81.2\n",
      "Minibatch loss at step 3000: 3.9912567138671875\n",
      "Minibatch accuracy: 73.4\n",
      "Test accuracy: 88.2\n"
     ]
    }
   ],
   "source": [
    "runHiddenNetwork(batch_size=128, use_l2 = False, use_dropout=False)"
   ]
  },
  {
   "cell_type": "code",
   "execution_count": 13,
   "metadata": {},
   "outputs": [
    {
     "name": "stdout",
     "output_type": "stream",
     "text": [
      "Initialized\n",
      "Minibatch loss at step 0: 3405.5517578125\n",
      "Minibatch accuracy: 8.6\n",
      "Minibatch loss at step 500: 21.45124053955078\n",
      "Minibatch accuracy: 81.2\n",
      "Minibatch loss at step 1000: 0.8566844463348389\n",
      "Minibatch accuracy: 85.2\n",
      "Minibatch loss at step 1500: 0.6463170647621155\n",
      "Minibatch accuracy: 84.4\n",
      "Minibatch loss at step 2000: 0.8552833199501038\n",
      "Minibatch accuracy: 79.7\n",
      "Minibatch loss at step 2500: 0.8254164457321167\n",
      "Minibatch accuracy: 80.5\n",
      "Minibatch loss at step 3000: 0.8451869487762451\n",
      "Minibatch accuracy: 79.7\n",
      "Test accuracy: 90.3\n"
     ]
    }
   ],
   "source": [
    "runHiddenNetwork(batch_size=128, use_l2 = True, use_dropout=False)"
   ]
  },
  {
   "cell_type": "markdown",
   "metadata": {
    "colab_type": "text",
    "id": "-b1hTz3VWZjw"
   },
   "source": [
    "---\n",
    "Problem 4\n",
    "---------\n",
    "\n",
    "Try to get the best performance you can using a multi-layer model! The best reported test accuracy using a deep network is [97.1%](http://yaroslavvb.blogspot.com/2011/09/notmnist-dataset.html?showComment=1391023266211#c8758720086795711595).\n",
    "\n",
    "One avenue you can explore is to add multiple layers.\n",
    "\n",
    "Another one is to use learning rate decay:\n",
    "\n",
    "    global_step = tf.Variable(0)  # count the number of steps taken.\n",
    "    learning_rate = tf.train.exponential_decay(0.5, global_step, ...)\n",
    "    optimizer = tf.train.GradientDescentOptimizer(learning_rate).minimize(loss, global_step=global_step)\n",
    " \n",
    " ---\n"
   ]
  },
  {
   "cell_type": "code",
   "execution_count": 78,
   "metadata": {},
   "outputs": [],
   "source": [
    "batch_size = 10\n",
    "\n",
    "l2_penalty = 0.01\n",
    "\n",
    "hidden_nodes_1 = 1024\n",
    "hidden_nodes_2 = int(hidden_nodes_1 * 0.5)\n",
    "hidden_nodes_3 = int(hidden_nodes_1 * np.power(0.5, 2))\n",
    "hidden_nodes_4 = int(hidden_nodes_1 * np.power(0.5, 3))\n",
    "\n",
    "def runHiddenNetworkMulti(batch_size=128, num_steps = 3001) :\n",
    "    graphRelu = tf.Graph()\n",
    "    with graphRelu.as_default():\n",
    "        keep_prob = tf.placeholder(tf.float32)\n",
    "        global_step = tf.Variable(0)\n",
    "        decay_steps = tf.Variable(0)\n",
    "\n",
    "        decay_rate =  tf.constant(0.96)\n",
    "        learning_rate = tf.train.exponential_decay(\n",
    "            learning_rate=0.5,global_step=global_step,decay_rate=decay_rate,decay_steps = decay_steps\n",
    "        ) #number of steps taken.\n",
    "        # Input data. For the training data, we use a placeholder that will be fed\n",
    "        # at run time with a training minibatch.\n",
    "        tf_train_dataset = tf.placeholder(tf.float32,\n",
    "                                        shape=(batch_size, image_size * image_size))\n",
    "        tf_train_labels = tf.placeholder(tf.float32, shape=(batch_size, num_labels))\n",
    "        tf_valid_dataset = tf.constant(valid_dataset)\n",
    "        tf_test_dataset = tf.constant(test_dataset)\n",
    "        \n",
    "        \n",
    "        # Variables.\n",
    "        \n",
    "        weights_1 = tf.Variable(tf.truncated_normal([image_size * image_size, hidden_nodes_1],\n",
    "                                               stddev=math.sqrt(2.0/(image_size*image_size))))\n",
    "        \n",
    "        weights_test = tf.truncated_normal([image_size * image_size, hidden_nodes_1])\n",
    "        \n",
    "        print(weights_1)\n",
    "        print(weights_test)\n",
    "\n",
    "        biases_1 = tf.Variable(tf.zeros([hidden_nodes_1]))\n",
    "        weights_2 = tf.Variable( tf.truncated_normal([hidden_nodes_1, hidden_nodes_2],\n",
    "                                                    stddev=math.sqrt(2.0/(hidden_nodes_1))))\n",
    "        biases_2 = tf.Variable(tf.zeros([hidden_nodes_2]))\n",
    "        weights_3 = tf.Variable( tf.truncated_normal([hidden_nodes_2, hidden_nodes_3],\n",
    "                                                    stddev=math.sqrt(2.0/(hidden_nodes_2))))\n",
    "        biases_3 = tf.Variable(tf.zeros([hidden_nodes_3]))\n",
    "\n",
    "        weights_4 = tf.Variable( tf.truncated_normal([hidden_nodes_3, num_labels],\n",
    "                                                    stddev=math.sqrt(2.0/(hidden_nodes_3))))\n",
    "        biases_4 = tf.Variable(tf.zeros([num_labels]))\n",
    "\n",
    "        logits_1 = tf.matmul(tf_train_dataset, weights_1) + biases_1\n",
    "        relu_layer_1 = tf.nn.dropout(tf.nn.relu(logits_1),keep_prob)\n",
    "        logits_2 = tf.matmul(relu_layer_1, weights_2) + biases_2     \n",
    "        relu_layer_2 = tf.nn.dropout(tf.nn.relu(logits_2),keep_prob)\n",
    "        logits_3 = tf.matmul(relu_layer_2, weights_3) + biases_3\n",
    "        relu_layer_3 = tf.nn.dropout(tf.nn.relu(logits_3),keep_prob)\n",
    "        logits_4 = tf.matmul(relu_layer_3, weights_4) + biases_4\n",
    "        \n",
    "        loss = tf.reduce_mean(tf.nn.softmax_cross_entropy_with_logits_v2(logits=logits_4,labels=tf_train_labels))\n",
    "            \n",
    "        optimizer = tf.train.GradientDescentOptimizer(learning_rate).minimize(loss)\n",
    "        train_prediction = tf.nn.softmax(logits_4)\n",
    "        \n",
    "        # Predictions for test\n",
    "        logits_1 = tf.matmul(tf_test_dataset, weights_1) + biases_1\n",
    "        relu_layer_1 = tf.nn.relu(logits_1)\n",
    "        logits_2 = tf.matmul(relu_layer_1, weights_2) + biases_2\n",
    "        relu_layer_2 = tf.nn.relu(logits_2)\n",
    "        logits_3 = tf.matmul(relu_layer_2, weights_3) + biases_3\n",
    "        relu_layer_3 = tf.nn.relu(logits_3)\n",
    "        logits_4 = tf.matmul(relu_layer_3, weights_4) + biases_4\n",
    "        test_prediction =  tf.nn.softmax(logits_4)   \n",
    "\n",
    "        \n",
    "        with tf.Session(graph=graphRelu) as session:\n",
    "            tf.initialize_all_variables().run()\n",
    "            print(\"Initialized\")\n",
    "            for step in range(num_steps):\n",
    "                # Pick an offset within the training data, which has been randomized.\n",
    "                # Note: we could use better randomization across epochs.\n",
    "                offset = (step * batch_size) % (train_labels.shape[0] - batch_size)\n",
    "                # Generate a minibatch.\n",
    "                batch_data = train_dataset[offset:(offset + batch_size), :]\n",
    "                batch_labels = train_labels[offset:(offset + batch_size), :]\n",
    "                # Prepare a dictionary telling the session where to feed the minibatch.\n",
    "                # The key of the dictionary is the placeholder node of the graph to be fed,\n",
    "                # and the value is the numpy array to feed to it.\n",
    "                feed_dict = {tf_train_dataset : batch_data, tf_train_labels : batch_labels,keep_prob:1.0, global_step:step,decay_steps:num_steps}\n",
    "                _, l, predictions = session.run([optimizer, loss, train_prediction], feed_dict=feed_dict)\n",
    "                if (step % 500 == 0):\n",
    "                    print(\"Minibatch loss at step {}: {}\".format(step, l))\n",
    "                    print(\"Minibatch accuracy: {:.1f}\".format(accuracy(predictions, batch_labels)))\n",
    "            print(\"Test accuracy: {:.1f}\".format(accuracy(test_prediction.eval(), test_labels)))\n"
   ]
  },
  {
   "cell_type": "code",
   "execution_count": 79,
   "metadata": {},
   "outputs": [
    {
     "name": "stdout",
     "output_type": "stream",
     "text": [
      "<tf.Variable 'Variable_2:0' shape=(784, 1024) dtype=float32_ref>\n",
      "Tensor(\"truncated_normal_1:0\", shape=(784, 1024), dtype=float32)\n",
      "Initialized\n",
      "Minibatch loss at step 0: 2.3900697231292725\n",
      "Minibatch accuracy: 12.5\n",
      "Minibatch loss at step 500: 0.5901281833648682\n",
      "Minibatch accuracy: 85.9\n",
      "Minibatch loss at step 1000: 0.3898574113845825\n",
      "Minibatch accuracy: 88.3\n",
      "Minibatch loss at step 1500: 0.2717112898826599\n",
      "Minibatch accuracy: 94.5\n",
      "Minibatch loss at step 2000: 0.35647156834602356\n",
      "Minibatch accuracy: 88.3\n",
      "Minibatch loss at step 2500: 0.43629390001296997\n",
      "Minibatch accuracy: 85.9\n",
      "Minibatch loss at step 3000: 0.41051414608955383\n",
      "Minibatch accuracy: 87.5\n",
      "Test accuracy: 94.6\n"
     ]
    }
   ],
   "source": [
    "runHiddenNetworkMulti(batch_size=128)"
   ]
  },
  {
   "cell_type": "code",
   "execution_count": null,
   "metadata": {
    "collapsed": true
   },
   "outputs": [],
   "source": []
  }
 ],
 "metadata": {
  "colab": {
   "default_view": {},
   "name": "3_regularization.ipynb",
   "provenance": [],
   "version": "0.3.2",
   "views": {}
  },
  "kernelspec": {
   "display_name": "Python 3",
   "language": "python",
   "name": "python3"
  },
  "language_info": {
   "codemirror_mode": {
    "name": "ipython",
    "version": 3
   },
   "file_extension": ".py",
   "mimetype": "text/x-python",
   "name": "python",
   "nbconvert_exporter": "python",
   "pygments_lexer": "ipython3",
   "version": "3.5.4"
  }
 },
 "nbformat": 4,
 "nbformat_minor": 1
}
